{
 "cells": [
  {
   "cell_type": "code",
   "execution_count": 8,
   "metadata": {},
   "outputs": [],
   "source": [
    "import requests\n",
    "import pandas as pd\n",
    "import json"
   ]
  },
  {
   "cell_type": "code",
   "execution_count": 9,
   "metadata": {},
   "outputs": [],
   "source": [
    "api_key = \"df6f62c7bff5489ea030bcd96b725280\"\n",
    "accident = pd.read_csv('Road Accident Data.csv')\n",
    "sample_size = int(len(accident)* 0.0001)\n",
    "accident = accident.sample(n=sample_size, random_state=42)\n"
   ]
  },
  {
   "cell_type": "code",
   "execution_count": null,
   "metadata": {},
   "outputs": [
    {
     "name": "stdout",
     "output_type": "stream",
     "text": [
      "Données météorologiques ajoutées avec succès !\n"
     ]
    }
   ],
   "source": [
    "url = \"http://api.weatherstack.com/historical\"\n",
    "\n",
    "weather_data = []\n",
    "\n",
    "for _, row in accident.iterrows():\n",
    "    latitude = row['Latitude']\n",
    "    longitude = row['Longitude']\n",
    "    date = row['Accident Date']\n",
    "    index = row[\"Accident_Index\"]\n",
    "    \n",
    "\n",
    "    # Paramètres pour l'API Weatherstack\n",
    "    params = {\n",
    "        \"access_key\": api_key,\n",
    "        \"query\": f\"{latitude},{longitude}\",\n",
    "        \"historical_date\": date\n",
    "    }\n",
    "    \n",
    "    try:\n",
    "        response = requests.get(url, params=params)\n",
    "        data = response.json()\n",
    "        \n",
    "        # Ajout des données dans la liste avec l'index correspondant\n",
    "        weather_data.append({\n",
    "            \"AccidentIndex\": index,\n",
    "            \"WeatherData\": data\n",
    "        })\n",
    "    except Exception as e:\n",
    "        # Gestion des erreurs pour éviter les arrêts brutaux\n",
    "        print(f\"Erreur pour l'index {index}: {e}\")\n",
    "\n",
    "# Sauvegarde des résultats dans un fichier JSON\n",
    "with open('weather_data.json', 'w') as json_file:\n",
    "    json.dump(weather_data, json_file, indent=4)\n",
    "\n",
    "print(\"Données météorologiques ajoutées avec succès !\")\n"
   ]
  },
  {
   "cell_type": "markdown",
   "metadata": {},
   "source": []
  }
 ],
 "metadata": {
  "kernelspec": {
   "display_name": "DataScience",
   "language": "python",
   "name": "python3"
  },
  "language_info": {
   "codemirror_mode": {
    "name": "ipython",
    "version": 3
   },
   "file_extension": ".py",
   "mimetype": "text/x-python",
   "name": "python",
   "nbconvert_exporter": "python",
   "pygments_lexer": "ipython3",
   "version": "3.10.15"
  }
 },
 "nbformat": 4,
 "nbformat_minor": 2
}
