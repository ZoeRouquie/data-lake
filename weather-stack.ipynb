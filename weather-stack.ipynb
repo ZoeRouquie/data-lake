{
 "cells": [
  {
   "cell_type": "code",
   "execution_count": 1,
   "metadata": {},
   "outputs": [],
   "source": [
    "import requests\n",
    "import pandas as pd\n",
    "import json"
   ]
  },
  {
   "cell_type": "code",
   "execution_count": null,
   "metadata": {},
   "outputs": [],
   "source": [
    "\n",
    "accident = pd.read_csv('Road Accident Data.csv')\n",
    "sample_size = int(len(accident)* 0.0001)\n",
    "accident = accident.sample(n=sample_size, random_state=42)\n",
    "\n",
    "try:\n",
    "    accident['Accident Date'] = pd.to_datetime(accident['Accident Date'], errors='coerce').dt.strftime('%Y-%m-%d')\n",
    "except Exception as e:\n",
    "    print(f\"Erreur lors de la conversion des dates : {e}\")\n"
   ]
  },
  {
   "cell_type": "code",
   "execution_count": null,
   "metadata": {},
   "outputs": [
    {
     "name": "stdout",
     "output_type": "stream",
     "text": [
      "Index 2.01E+12 - Sunrise: 2021-06-01 03:43:00, Sunset: 2021-06-01 20:01:00, Day Length: 16.3 hours\n",
      "Index 200920E008803 - Sunrise: 2021-01-14 08:11:00, Sunset: 2021-01-14 16:21:00, Day Length: 8.166666666666666 hours\n",
      "Index 200920D177103 - Sunrise: 2021-07-22 04:12:00, Sunset: 2021-07-22 20:14:00, Day Length: 16.033333333333335 hours\n",
      "Index 2.01E+12 - Sunrise: 2022-02-24 07:06:00, Sunset: 2022-02-24 17:33:00, Day Length: 10.45 hours\n",
      "Index 2.01E+12 - Sunrise: 2021-05-07 04:28:00, Sunset: 2021-05-07 19:36:00, Day Length: 15.133333333333333 hours\n",
      "Index 201032D342810 - Sunrise: 2022-11-09 07:15:00, Sunset: 2022-11-09 16:16:00, Day Length: 9.016666666666667 hours\n",
      "Index 200901VK30104 - Sunrise: 2021-04-16 05:02:00, Sunset: 2021-04-16 18:59:00, Day Length: 13.95 hours\n",
      "Index 2.01E+12 - Sunrise: 2022-01-12 08:17:00, Sunset: 2022-01-12 16:31:00, Day Length: 8.233333333333333 hours\n",
      "Index 201060L130221 - Sunrise: 2022-07-17 04:11:00, Sunset: 2022-07-17 20:35:00, Day Length: 16.4 hours\n",
      "Index 2.01E+12 - Sunrise: 2022-02-02 07:42:00, Sunset: 2022-02-02 16:50:00, Day Length: 9.133333333333333 hours\n",
      "Index 201001PY20336 - Sunrise: 2022-06-10 03:43:00, Sunset: 2022-06-10 20:15:00, Day Length: 16.533333333333335 hours\n",
      "Index 2.01E+12 - Sunrise: 2022-11-06 07:02:00, Sunset: 2022-11-06 16:26:00, Day Length: 9.4 hours\n",
      "Index 2010550D33646 - Sunrise: 2022-08-04 04:43:00, Sunset: 2022-08-04 19:52:00, Day Length: 15.15 hours\n",
      "Index 200997NE70403 - Sunrise: 2021-03-25 06:03:00, Sunset: 2021-03-25 18:39:00, Day Length: 12.6 hours\n",
      "Index 201050GN2A024 - Sunrise: 2022-08-07 04:56:00, Sunset: 2022-08-07 19:54:00, Day Length: 14.966666666666667 hours\n",
      "Index 200906F023878 - Sunrise: 2021-11-13 07:32:00, Sunset: 2021-11-13 16:15:00, Day Length: 8.716666666666667 hours\n",
      "Index 2.01E+12 - Sunrise: 2022-01-26 07:49:00, Sunset: 2022-01-26 16:46:00, Day Length: 8.95 hours\n",
      "Index 201045RE52185 - Sunrise: 2022-07-07 03:53:00, Sunset: 2022-07-07 20:17:00, Day Length: 16.4 hours\n",
      "Index 2.01E+12 - Sunrise: 2021-12-11 07:57:00, Sunset: 2021-12-11 16:00:00, Day Length: 8.05 hours\n",
      "Index 2.01E+12 - Sunrise: 2021-04-20 04:48:00, Sunset: 2021-04-20 18:58:00, Day Length: 14.166666666666666 hours\n",
      "Index 2.01E+12 - Sunrise: 2021-04-12 05:14:00, Sunset: 2021-04-12 19:13:00, Day Length: 13.983333333333333 hours\n",
      "Index 2010550D46829 - Sunrise: 2022-10-24 06:48:00, Sunset: 2022-10-24 17:00:00, Day Length: 10.2 hours\n",
      "Index 2.01E+220 - Sunrise: 2022-04-14 05:06:00, Sunset: 2022-04-14 18:55:00, Day Length: 13.816666666666666 hours\n",
      "Index 200922D905443 - Sunrise: 2021-10-02 06:11:00, Sunset: 2021-10-02 17:43:00, Day Length: 11.533333333333333 hours\n",
      "Index 2009160A05120 - Sunrise: 2021-11-25 07:44:00, Sunset: 2021-11-25 15:50:00, Day Length: 8.1 hours\n",
      "Index 2.01E+12 - Sunrise: 2022-11-22 07:52:00, Sunset: 2022-11-22 15:54:00, Day Length: 8.033333333333333 hours\n",
      "Index 2.01E+12 - Sunrise: 2022-09-24 05:50:00, Sunset: 2022-09-24 17:55:00, Day Length: 12.083333333333334 hours\n",
      "Index 200901FH10124 - Sunrise: 2021-02-12 07:19:00, Sunset: 2021-02-12 17:10:00, Day Length: 9.85 hours\n",
      "Index 2.01E+12 - Sunrise: 2022-07-12 04:09:00, Sunset: 2022-07-12 20:27:00, Day Length: 16.3 hours\n",
      "Index 2.01E+12 - Sunrise: 2021-04-22 05:04:00, Sunset: 2021-04-22 19:24:00, Day Length: 14.333333333333334 hours\n",
      "Données météorologiques ajoutées avec succès !\n"
     ]
    }
   ],
   "source": [
    "url = \"https://archive-api.open-meteo.com/v1/era5\"\n",
    "\n",
    "weather_data = []\n",
    "\n",
    "for _, row in accident.iterrows():\n",
    "    latitude = row['Latitude']\n",
    "    longitude = row['Longitude']\n",
    "    date = row['Accident Date']\n",
    "    index = row[\"Accident_Index\"]\n",
    "\n",
    "    # Paramètres pour l'API Open-Meteo\n",
    "    params = {\n",
    "        \"latitude\": latitude,\n",
    "        \"longitude\": longitude,\n",
    "        \"start_date\": date,\n",
    "        \"end_date\": date,\n",
    "        \"daily\": \"temperature_2m_max,temperature_2m_min,precipitation_sum,windspeed_10m_max,shortwave_radiation_sum,sunrise,sunset\",\n",
    "        \"timezone\": \"auto\"\n",
    "    }\n",
    "\n",
    "    try:\n",
    "        response = requests.get(url, params=params)\n",
    "        data = response.json()\n",
    "\n",
    "        # Vérification si les données \"daily\" sont disponibles\n",
    "        if \"daily\" in data:\n",
    "            daily_data = data[\"daily\"]\n",
    "\n",
    "            # Extraction et calcul des données nécessaires\n",
    "            max_temp = daily_data[\"temperature_2m_max\"][0] if \"temperature_2m_max\" in daily_data else None\n",
    "            min_temp = daily_data[\"temperature_2m_min\"][0] if \"temperature_2m_min\" in daily_data else None\n",
    "            total_precipitation = daily_data[\"precipitation_sum\"][0] if \"precipitation_sum\" in daily_data else None\n",
    "            wind_speed = daily_data[\"windspeed_10m_max\"][0] if \"windspeed_10m_max\" in daily_data else None\n",
    "            solar_radiation = daily_data[\"shortwave_radiation_sum\"][0] if \"shortwave_radiation_sum\" in daily_data else None\n",
    "\n",
    "            # Calcul de la durée totale de jour en heures\n",
    "            sunrise = pd.to_datetime(daily_data[\"sunrise\"][0]) if \"sunrise\" in daily_data else None\n",
    "            sunset = pd.to_datetime(daily_data[\"sunset\"][0]) if \"sunset\" in daily_data else None\n",
    "            day_length = None\n",
    "            if sunrise and sunset:\n",
    "                day_length = (sunset - sunrise).seconds / 3600  # Convertir en heures\n",
    "\n",
    "            # Ajouter les données collectées dans la liste\n",
    "            weather_data.append({\n",
    "                \"AccidentIndex\": index,\n",
    "                \"Date\": date,\n",
    "                \"MaxTemperature\": max_temp,\n",
    "                \"MinTemperature\": min_temp,\n",
    "                \"TotalPrecipitation\": total_precipitation,\n",
    "                \"MaxWindSpeed\": wind_speed,\n",
    "                \"SolarRadiation\": solar_radiation,\n",
    "                \"DayLengthHours\": day_length\n",
    "            })\n",
    "\n",
    "           \n",
    "           \n",
    "    except Exception as e:\n",
    "        print(f\"Erreur pour l'index {index}: {e}\")\n",
    "\n",
    "# Sauvegarder les données météo dans un fichier JSON\n",
    "with open('weather_data.json', 'w') as json_file:\n",
    "    json.dump(weather_data, json_file, indent=4)\n",
    "\n",
    "print(\"Données météorologiques ajoutées avec succès !\")"
   ]
  },
  {
   "cell_type": "markdown",
   "metadata": {},
   "source": []
  }
 ],
 "metadata": {
  "kernelspec": {
   "display_name": "DataScience",
   "language": "python",
   "name": "python3"
  },
  "language_info": {
   "codemirror_mode": {
    "name": "ipython",
    "version": 3
   },
   "file_extension": ".py",
   "mimetype": "text/x-python",
   "name": "python",
   "nbconvert_exporter": "python",
   "pygments_lexer": "ipython3",
   "version": "3.10.15"
  }
 },
 "nbformat": 4,
 "nbformat_minor": 2
}
