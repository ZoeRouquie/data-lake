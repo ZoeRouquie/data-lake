{
 "cells": [
  {
   "cell_type": "code",
   "execution_count": null,
   "metadata": {},
   "outputs": [],
   "source": [
    "import requests\n",
    "\n",
    "\n",
    "url = \"http://api.weatherstack.com/historical\"\n",
    "params = {\n",
    "    \"access_key\": \"df6f62c7bff5489ea030bcd96b725280\",\n",
    "    \"query\": \"51.5074,-0.1278\",  # Latitude, Longitude pour Londres\n",
    "    \"historical_date\": \"2024-01-01\"\n",
    "}\n",
    "response = requests.get(url, params=params)\n",
    "print(response.json())\n",
    "\n"
   ]
  }
 ],
 "metadata": {
  "kernelspec": {
   "display_name": "DataScience",
   "language": "python",
   "name": "python3"
  },
  "language_info": {
   "name": "python",
   "version": "3.10.15"
  }
 },
 "nbformat": 4,
 "nbformat_minor": 2
}
