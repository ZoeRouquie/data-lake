{
 "cells": [
  {
   "cell_type": "code",
   "execution_count": 1,
   "metadata": {},
   "outputs": [],
   "source": [
    "from pyspark.sql import SparkSession\n",
    "from pyspark.sql.functions import col, when"
   ]
  },
  {
   "cell_type": "code",
   "execution_count": 2,
   "metadata": {},
   "outputs": [
    {
     "name": "stderr",
     "output_type": "stream",
     "text": [
      "24/12/10 11:44:10 WARN Utils: Your hostname, MacBook-Air-Madina.local resolves to a loopback address: 127.0.0.1; using 10.188.13.32 instead (on interface en0)\n",
      "24/12/10 11:44:10 WARN Utils: Set SPARK_LOCAL_IP if you need to bind to another address\n",
      "Setting default log level to \"WARN\".\n",
      "To adjust logging level use sc.setLogLevel(newLevel). For SparkR, use setLogLevel(newLevel).\n",
      "24/12/10 11:44:10 WARN NativeCodeLoader: Unable to load native-hadoop library for your platform... using builtin-java classes where applicable\n"
     ]
    }
   ],
   "source": [
    "# Créer une session Spark\n",
    "spark = SparkSession.builder.appName(\"DataCleaningWithSpark\").getOrCreate()"
   ]
  },
  {
   "cell_type": "code",
   "execution_count": 3,
   "metadata": {},
   "outputs": [
    {
     "name": "stderr",
     "output_type": "stream",
     "text": [
      "                                                                                \r"
     ]
    }
   ],
   "source": [
    "# 1. Lire le fichier CSV avec Spark\n",
    "data_spark = spark.read.csv(\"Road Accident Data.csv\", header=True, inferSchema=True)\n"
   ]
  },
  {
   "cell_type": "code",
   "execution_count": 4,
   "metadata": {},
   "outputs": [
    {
     "name": "stdout",
     "output_type": "stream",
     "text": [
      "+--------------+-------------+-----------+--------------------+--------------------+-----------------+---------+--------------------+--------------------------+-------------------+---------+--------------------+------------------+-------------------+-----------------------+------------------+-----------+-------------------+-------------------+------------------+--------------------+\n",
      "|Accident_Index|Accident Date|Day_of_Week|    Junction_Control|     Junction_Detail|Accident_Severity| Latitude|    Light_Conditions|Local_Authority_(District)|Carriageway_Hazards|Longitude|Number_of_Casualties|Number_of_Vehicles|       Police_Force|Road_Surface_Conditions|         Road_Type|Speed_limit|               Time|Urban_or_Rural_Area|Weather_Conditions|        Vehicle_Type|\n",
      "+--------------+-------------+-----------+--------------------+--------------------+-----------------+---------+--------------------+--------------------------+-------------------+---------+--------------------+------------------+-------------------+-----------------------+------------------+-----------+-------------------+-------------------+------------------+--------------------+\n",
      "| 200901BS70001|     1/1/2021|   Thursday|Give way or uncon...|T or staggered ju...|          Serious|51.512273|            Daylight|      Kensington and Ch...|               None|-0.201349|                   1|                 2|Metropolitan Police|                    Dry|    One way street|         30|2024-12-10 15:11:00|              Urban|Fine no high winds|                 Car|\n",
      "| 200901BS70002|     1/5/2021|     Monday|Give way or uncon...|          Crossroads|          Serious|51.514399|            Daylight|      Kensington and Ch...|               None|-0.199248|                  11|                 2|Metropolitan Police|            Wet or damp|Single carriageway|         30|2024-12-10 10:59:00|              Urban|Fine no high winds|Taxi/Private hire...|\n",
      "| 200901BS70003|     1/4/2021|     Sunday|Give way or uncon...|T or staggered ju...|           Slight|51.486668|            Daylight|      Kensington and Ch...|               None|-0.179599|                   1|                 2|Metropolitan Police|                    Dry|Single carriageway|         30|2024-12-10 14:19:00|              Urban|Fine no high winds|Taxi/Private hire...|\n",
      "| 200901BS70004|     1/5/2021|     Monday| Auto traffic signal|T or staggered ju...|          Serious|51.507804|            Daylight|      Kensington and Ch...|               None| -0.20311|                   1|                 2|Metropolitan Police|           Frost or ice|Single carriageway|         30|2024-12-10 08:10:00|              Urban|             Other|Motorcycle over 5...|\n",
      "| 200901BS70005|     1/6/2021|    Tuesday| Auto traffic signal|          Crossroads|          Serious|51.482076|Darkness - lights...|      Kensington and Ch...|               None|-0.173445|                   1|                 2|Metropolitan Police|                    Dry|Single carriageway|         30|2024-12-10 17:25:00|              Urban|Fine no high winds|                 Car|\n",
      "| 200901BS70006|     1/1/2021|   Thursday|Give way or uncon...|T or staggered ju...|           Slight|51.493415|            Daylight|      Kensington and Ch...|               None|-0.185525|                   3|                 2|Metropolitan Police|                    Dry|Single carriageway|         30|2024-12-10 11:48:00|              Urban|Fine no high winds|                 Car|\n",
      "| 200901BS70007|     1/8/2021|   Thursday|Give way or uncon...|T or staggered ju...|          Serious|51.480177|            Daylight|      Kensington and Ch...|               None|-0.178561|                   1|                 2|Metropolitan Police|                    Dry|Single carriageway|         30|2024-12-10 13:58:00|              Urban|Fine no high winds|Motorcycle over 5...|\n",
      "| 200901BS70008|     1/2/2021|     Friday| Auto traffic signal|          Crossroads|           Slight|51.491957|            Daylight|      Kensington and Ch...|               None|-0.178524|                   1|                 1|Metropolitan Police|                    Dry|  Dual carriageway|         30|2024-12-10 13:18:00|              Urban|Fine no high winds|                 Car|\n",
      "| 200901BS70009|     1/7/2021|  Wednesday|Give way or uncon...|T or staggered ju...|           Slight| 51.49646|            Daylight|      Kensington and Ch...|               None|-0.167395|                   2|                 1|Metropolitan Police|                    Dry|Single carriageway|         30|2024-12-10 12:15:00|              Urban|Fine no high winds|Van / Goods 3.5 t...|\n",
      "| 200901BS70010|    1/10/2021|   Saturday| Auto traffic signal|          Crossroads|           Slight| 51.48115|            Daylight|      Kensington and Ch...|               None|-0.183275|                   1|                 1|Metropolitan Police|            Wet or damp|Single carriageway|         30|2024-12-10 09:52:00|              Urban|             Other|                 Car|\n",
      "+--------------+-------------+-----------+--------------------+--------------------+-----------------+---------+--------------------+--------------------------+-------------------+---------+--------------------+------------------+-------------------+-----------------------+------------------+-----------+-------------------+-------------------+------------------+--------------------+\n",
      "only showing top 10 rows\n",
      "\n"
     ]
    }
   ],
   "source": [
    "# Afficher les premières lignes pour vérifier les données\n",
    "data_spark.show(10)"
   ]
  },
  {
   "cell_type": "code",
   "execution_count": 5,
   "metadata": {},
   "outputs": [],
   "source": [
    "#Supprimer les colonnes inutiles (Carriageway_Hazards, Weather_Conditions)\n",
    "data_spark = data_spark.drop(\"Carriageway_Hazards\", \"Weather_Conditions\")"
   ]
  },
  {
   "cell_type": "code",
   "execution_count": 6,
   "metadata": {},
   "outputs": [],
   "source": [
    "# Supprimer les lignes avec des valeurs manquantes dans des colonnes spécifiques\n",
    "data_cleaned = data_spark.dropna(subset=[\"Road_Surface_Conditions\", \"Road_Type\", \"Time\"])"
   ]
  },
  {
   "cell_type": "code",
   "execution_count": 7,
   "metadata": {},
   "outputs": [
    {
     "name": "stdout",
     "output_type": "stream",
     "text": [
      "Vérifier les NaN restants dans le DataFrame :\n",
      "+--------------+-------------+-----------+----------------+---------------+-----------------+--------+----------------+--------------------------+---------+--------------------+------------------+------------+-----------------------+---------+-----------+-----+-------------------+------------+\n",
      "|Accident_Index|Accident Date|Day_of_Week|Junction_Control|Junction_Detail|Accident_Severity|Latitude|Light_Conditions|Local_Authority_(District)|Longitude|Number_of_Casualties|Number_of_Vehicles|Police_Force|Road_Surface_Conditions|Road_Type|Speed_limit| Time|Urban_or_Rural_Area|Vehicle_Type|\n",
      "+--------------+-------------+-----------+----------------+---------------+-----------------+--------+----------------+--------------------------+---------+--------------------+------------------+------------+-----------------------+---------+-----------+-----+-------------------+------------+\n",
      "|         false|        false|      false|           false|          false|            false|   false|           false|                     false|    false|               false|             false|       false|                  false|    false|      false|false|              false|       false|\n",
      "|         false|        false|      false|           false|          false|            false|   false|           false|                     false|    false|               false|             false|       false|                  false|    false|      false|false|              false|       false|\n",
      "|         false|        false|      false|           false|          false|            false|   false|           false|                     false|    false|               false|             false|       false|                  false|    false|      false|false|              false|       false|\n",
      "|         false|        false|      false|           false|          false|            false|   false|           false|                     false|    false|               false|             false|       false|                  false|    false|      false|false|              false|       false|\n",
      "|         false|        false|      false|           false|          false|            false|   false|           false|                     false|    false|               false|             false|       false|                  false|    false|      false|false|              false|       false|\n",
      "|         false|        false|      false|           false|          false|            false|   false|           false|                     false|    false|               false|             false|       false|                  false|    false|      false|false|              false|       false|\n",
      "|         false|        false|      false|           false|          false|            false|   false|           false|                     false|    false|               false|             false|       false|                  false|    false|      false|false|              false|       false|\n",
      "|         false|        false|      false|           false|          false|            false|   false|           false|                     false|    false|               false|             false|       false|                  false|    false|      false|false|              false|       false|\n",
      "|         false|        false|      false|           false|          false|            false|   false|           false|                     false|    false|               false|             false|       false|                  false|    false|      false|false|              false|       false|\n",
      "|         false|        false|      false|           false|          false|            false|   false|           false|                     false|    false|               false|             false|       false|                  false|    false|      false|false|              false|       false|\n",
      "|         false|        false|      false|           false|          false|            false|   false|           false|                     false|    false|               false|             false|       false|                  false|    false|      false|false|              false|       false|\n",
      "|         false|        false|      false|           false|          false|            false|   false|           false|                     false|    false|               false|             false|       false|                  false|    false|      false|false|              false|       false|\n",
      "|         false|        false|      false|           false|          false|            false|   false|           false|                     false|    false|               false|             false|       false|                  false|    false|      false|false|              false|       false|\n",
      "|         false|        false|      false|           false|          false|            false|   false|           false|                     false|    false|               false|             false|       false|                  false|    false|      false|false|              false|       false|\n",
      "|         false|        false|      false|           false|          false|            false|   false|           false|                     false|    false|               false|             false|       false|                  false|    false|      false|false|              false|       false|\n",
      "|         false|        false|      false|           false|          false|            false|   false|           false|                     false|    false|               false|             false|       false|                  false|    false|      false|false|              false|       false|\n",
      "|         false|        false|      false|           false|          false|            false|   false|           false|                     false|    false|               false|             false|       false|                  false|    false|      false|false|              false|       false|\n",
      "|         false|        false|      false|           false|          false|            false|   false|           false|                     false|    false|               false|             false|       false|                  false|    false|      false|false|              false|       false|\n",
      "|         false|        false|      false|           false|          false|            false|   false|           false|                     false|    false|               false|             false|       false|                  false|    false|      false|false|              false|       false|\n",
      "|         false|        false|      false|           false|          false|            false|   false|           false|                     false|    false|               false|             false|       false|                  false|    false|      false|false|              false|       false|\n",
      "+--------------+-------------+-----------+----------------+---------------+-----------------+--------+----------------+--------------------------+---------+--------------------+------------------+------------+-----------------------+---------+-----------+-----+-------------------+------------+\n",
      "only showing top 20 rows\n",
      "\n"
     ]
    }
   ],
   "source": [
    "# Vérifier les NaN restants\n",
    "print(\"Vérifier les NaN restants dans le DataFrame :\")\n",
    "data_cleaned.select([col(c).isNull().alias(c) for c in data_cleaned.columns]).show()"
   ]
  },
  {
   "cell_type": "code",
   "execution_count": 8,
   "metadata": {},
   "outputs": [],
   "source": [
    "# Dictionnaire de mapping pour plusieurs colonnes\n",
    "column_mappings = {\n",
    "    \"Day_of_Week\": {\n",
    "        \"Monday\": 1, \"Tuesday\": 2, \"Wednesday\": 3, \"Thursday\": 4,\n",
    "        \"Friday\": 5, \"Saturday\": 6, \"Sunday\": 7\n",
    "    },\n",
    "    \"Junction_Control\": {\n",
    "        \"Authorised person\": 1, \"Auto traffic signal\": 1, \"Stop sign\": 1,\n",
    "        \"Auto traffic sigl\": 1,\"Give way or uncontrolled\": 2,\n",
    "          \"Not at junction or within 20 metres\": 2,\n",
    "        \"Data missing or out of range\": 3\n",
    "    },\n",
    "    \"Junction_Detail\": { \n",
    "       \"Roundabout\": 1, \"Mini-roundabout\": 1, \"Crossroads\": 2, \n",
    "       \"More than 4 arms (not roundabout)\": 2, \"T or staggered junction\": 3, \"Slip road\": 4,\n",
    "       \"Private drive or entrance\": 4, \"Other junction\": 5, \"Not at junction or within 20 metres\": 6\n",
    "    },\n",
    "    \"Accident_Severity\": {\n",
    "        \"Slight\": 1, \"Serious\": 2, \"Fetal\": 3, \"Fatal\": 3\n",
    "    },\n",
    "    \"Light_Conditions\": { \n",
    "        \"Darkness - lighting unknown\": 0, \"Darkness - no lighting\": 0, \"Darkness - lights unlit\": 0, \n",
    "        \"Darkness - lights lit\": 1, \"Daylight\": 2\n",
    "    },\n",
    "    \"Road_Surface_Conditions\": {\n",
    "        \"Dry\": 1,  \"Wet or damp\": 2, \"Snow\": 3,\n",
    "          \"Frost or ice\": 4,  \"Flood over 3cm. deep\": 5\n",
    "    },\n",
    "    \"Road_Type\": {\n",
    "        \"Slip road\": 1, \"Single carriageway\": 2, \n",
    "        \"One way street\": 3, \"Roundabout\": 4, \"Dual carriageway\": 5\n",
    "\n",
    "    },\n",
    "    \"Urban_or_Rural_Area\": {\n",
    "        \"Urban\": 1, \"Rural\": 0\n",
    "    },\n",
    "    \"Vehicle_Type\": {\n",
    "          \"Pedal cycle\": 1,  \"Ridden horse\": 1,  \"Motorcycle 50cc and under\": 1,  \n",
    "          \"Motorcycle 125cc and under\": 1,  \"Motorcycle over 125cc and up to 500cc\": 1,  \n",
    "          \"Motorcycle over 500cc\": 1,  \"Car\": 2,  \"Taxi/Private hire car\": 2,  \n",
    "          \"Minibus (8 - 16 passenger seats)\": 2,  \"Van / Goods 3.5 tonnes mgw or under\": 3,  \n",
    "          \"Agricultural vehicle\": 3,  \"Goods over 3.5t. and under 7.5t\": 4,  \n",
    "          \"Bus or coach (17 or more pass seats)\": 4,  \"Goods 7.5 tonnes mgw and over\": 4,  \n",
    "          \"Other vehicle\": 5  \n",
    "    }\n",
    "}"
   ]
  },
  {
   "cell_type": "code",
   "execution_count": 9,
   "metadata": {},
   "outputs": [],
   "source": [
    "from pyspark.sql.functions import create_map, lit, col"
   ]
  },
  {
   "cell_type": "code",
   "execution_count": 10,
   "metadata": {},
   "outputs": [],
   "source": [
    "# Appliquer les mappings directement sur les colonnes existantes\n",
    "for column, mapping in column_mappings.items():\n",
    "    # Créez une expression \"when\" pour effectuer la transformation\n",
    "    expression = None\n",
    "    for key, value in mapping.items():\n",
    "        if expression is None:\n",
    "            expression = when(col(column) == key, value)\n",
    "        else:\n",
    "            expression = expression.when(col(column) == key, value)\n",
    "    \n",
    "    # Ajoutez une gestion des valeurs non mappées (optionnelle)\n",
    "    expression = expression.otherwise(None)  # Ou -1 si vous voulez une valeur par défaut\n",
    "    \n",
    "    # Remplacez la colonne par la version transformée\n",
    "    data_cleaned = data_cleaned.withColumn(column, expression)"
   ]
  },
  {
   "cell_type": "code",
   "execution_count": 11,
   "metadata": {},
   "outputs": [
    {
     "name": "stdout",
     "output_type": "stream",
     "text": [
      "+-----------+----------------+---------------+-----------------+----------------+-----------------------+---------+-------------------+------------+\n",
      "|Day_of_Week|Junction_Control|Junction_Detail|Accident_Severity|Light_Conditions|Road_Surface_Conditions|Road_Type|Urban_or_Rural_Area|Vehicle_Type|\n",
      "+-----------+----------------+---------------+-----------------+----------------+-----------------------+---------+-------------------+------------+\n",
      "|          4|               2|              3|                2|               2|                      1|        3|                  1|           2|\n",
      "|          1|               2|              2|                2|               2|                      2|        2|                  1|           2|\n",
      "|          7|               2|              3|                1|               2|                      1|        2|                  1|           2|\n",
      "|          1|               1|              3|                2|               2|                      4|        2|                  1|           1|\n",
      "|          2|               1|              2|                2|               1|                      1|        2|                  1|           2|\n",
      "|          4|               2|              3|                1|               2|                      1|        2|                  1|           2|\n",
      "|          4|               2|              3|                2|               2|                      1|        2|                  1|           1|\n",
      "|          5|               1|              2|                1|               2|                      1|        5|                  1|           2|\n",
      "|          3|               2|              3|                1|               2|                      1|        2|                  1|           3|\n",
      "|          6|               1|              2|                1|               2|                      2|        2|                  1|           2|\n",
      "|          3|               1|              2|                1|               1|                      1|        2|                  1|           2|\n",
      "|          5|               1|              2|                1|               1|                      1|        2|                  1|           2|\n",
      "|          1|               3|              6|                1|               2|                      2|        2|                  1|           2|\n",
      "|          5|               2|              3|                1|               2|                      2|        2|                  1|           2|\n",
      "|          6|               2|              3|                1|               2|                      1|        2|                  1|           2|\n",
      "|          7|               1|              2|                2|               1|                      1|        2|                  1|           2|\n",
      "|          1|               2|              2|                1|               1|                      1|        2|                  1|           3|\n",
      "|          1|               3|              6|                1|               1|                      1|        2|                  1|           2|\n",
      "|          1|               2|              3|                1|               2|                      2|        2|                  1|           2|\n",
      "|          2|               3|              6|                1|               1|                      1|        2|                  1|           2|\n",
      "+-----------+----------------+---------------+-----------------+----------------+-----------------------+---------+-------------------+------------+\n",
      "only showing top 20 rows\n",
      "\n"
     ]
    }
   ],
   "source": [
    "# Afficher quelques exemples\n",
    "data_cleaned.select(list(column_mappings.keys())).show()\n"
   ]
  },
  {
   "cell_type": "code",
   "execution_count": 12,
   "metadata": {},
   "outputs": [],
   "source": [
    "# Renommer la colonne Accident_Index en AccidentIndex\n",
    "data_cleaned = data_cleaned.withColumnRenamed(\"Accident_Index\", \"AccidentIndex\")\n"
   ]
  },
  {
   "cell_type": "code",
   "execution_count": 13,
   "metadata": {},
   "outputs": [
    {
     "name": "stdout",
     "output_type": "stream",
     "text": [
      "+-------------+-------------+-----------+----------------+---------------+-----------------+---------+----------------+--------------------------+---------+--------------------+------------------+-------------------+-----------------------+---------+-----------+-------------------+-------------------+------------+\n",
      "|AccidentIndex|Accident Date|Day_of_Week|Junction_Control|Junction_Detail|Accident_Severity| Latitude|Light_Conditions|Local_Authority_(District)|Longitude|Number_of_Casualties|Number_of_Vehicles|       Police_Force|Road_Surface_Conditions|Road_Type|Speed_limit|               Time|Urban_or_Rural_Area|Vehicle_Type|\n",
      "+-------------+-------------+-----------+----------------+---------------+-----------------+---------+----------------+--------------------------+---------+--------------------+------------------+-------------------+-----------------------+---------+-----------+-------------------+-------------------+------------+\n",
      "|200901BS70001|     1/1/2021|          4|               2|              3|                2|51.512273|               2|      Kensington and Ch...|-0.201349|                   1|                 2|Metropolitan Police|                      1|        3|         30|2024-12-10 15:11:00|                  1|           2|\n",
      "|200901BS70002|     1/5/2021|          1|               2|              2|                2|51.514399|               2|      Kensington and Ch...|-0.199248|                  11|                 2|Metropolitan Police|                      2|        2|         30|2024-12-10 10:59:00|                  1|           2|\n",
      "|200901BS70003|     1/4/2021|          7|               2|              3|                1|51.486668|               2|      Kensington and Ch...|-0.179599|                   1|                 2|Metropolitan Police|                      1|        2|         30|2024-12-10 14:19:00|                  1|           2|\n",
      "|200901BS70004|     1/5/2021|          1|               1|              3|                2|51.507804|               2|      Kensington and Ch...| -0.20311|                   1|                 2|Metropolitan Police|                      4|        2|         30|2024-12-10 08:10:00|                  1|           1|\n",
      "|200901BS70005|     1/6/2021|          2|               1|              2|                2|51.482076|               1|      Kensington and Ch...|-0.173445|                   1|                 2|Metropolitan Police|                      1|        2|         30|2024-12-10 17:25:00|                  1|           2|\n",
      "|200901BS70006|     1/1/2021|          4|               2|              3|                1|51.493415|               2|      Kensington and Ch...|-0.185525|                   3|                 2|Metropolitan Police|                      1|        2|         30|2024-12-10 11:48:00|                  1|           2|\n",
      "|200901BS70007|     1/8/2021|          4|               2|              3|                2|51.480177|               2|      Kensington and Ch...|-0.178561|                   1|                 2|Metropolitan Police|                      1|        2|         30|2024-12-10 13:58:00|                  1|           1|\n",
      "|200901BS70008|     1/2/2021|          5|               1|              2|                1|51.491957|               2|      Kensington and Ch...|-0.178524|                   1|                 1|Metropolitan Police|                      1|        5|         30|2024-12-10 13:18:00|                  1|           2|\n",
      "|200901BS70009|     1/7/2021|          3|               2|              3|                1| 51.49646|               2|      Kensington and Ch...|-0.167395|                   2|                 1|Metropolitan Police|                      1|        2|         30|2024-12-10 12:15:00|                  1|           3|\n",
      "|200901BS70010|    1/10/2021|          6|               1|              2|                1| 51.48115|               2|      Kensington and Ch...|-0.183275|                   1|                 1|Metropolitan Police|                      2|        2|         30|2024-12-10 09:52:00|                  1|           2|\n",
      "|200901BS70011|     1/7/2021|          3|               1|              2|                1|51.482076|               1|      Kensington and Ch...|-0.173445|                   1|                 2|Metropolitan Police|                      1|        2|         30|2024-12-10 00:09:00|                  1|           2|\n",
      "|200901BS70012|    1/16/2021|          5|               1|              2|                1|51.494995|               1|      Kensington and Ch...|-0.183013|                   1|                 1|Metropolitan Police|                      1|        2|         30|2024-12-10 17:49:00|                  1|           2|\n",
      "|200901BS70015|    1/12/2021|          1|               3|              6|                1|51.498778|               2|      Kensington and Ch...|-0.206779|                   1|                 2|Metropolitan Police|                      2|        2|         30|2024-12-10 14:00:00|                  1|           2|\n",
      "|200901BS70016|     1/9/2021|          5|               2|              3|                1|51.506187|               2|      Kensington and Ch...|-0.209082|                   1|                 2|Metropolitan Police|                      2|        2|         30|2024-12-10 08:15:00|                  1|           2|\n",
      "|200901BS70017|    1/17/2021|          6|               2|              3|                1|51.493077|               2|      Kensington and Ch...|-0.169548|                   1|                 2|Metropolitan Police|                      1|        2|         30|2024-12-10 12:15:00|                  1|           2|\n",
      "|200901BS70019|    1/25/2021|          7|               1|              2|                2|51.482076|               1|      Kensington and Ch...|-0.173445|                   1|                 2|Metropolitan Police|                      1|        2|         30|2024-12-10 22:05:00|                  1|           2|\n",
      "|200901BS70020|    1/26/2021|          1|               2|              2|                1|51.488673|               1|      Kensington and Ch...|-0.169724|                   1|                 2|Metropolitan Police|                      1|        2|         30|2024-12-10 17:30:00|                  1|           3|\n",
      "|200901BS70021|    1/26/2021|          1|               3|              6|                1|51.482363|               1|      Kensington and Ch...|-0.186108|                   1|                 1|Metropolitan Police|                      1|        2|         30|2024-12-10 17:05:00|                  1|           2|\n",
      "|200901BS70023|    1/19/2021|          1|               2|              3|                1| 51.49391|               2|      Kensington and Ch...|-0.176861|                   1|                 2|Metropolitan Police|                      2|        2|         30|2024-12-10 14:27:00|                  1|           2|\n",
      "|200901BS70024|    1/27/2021|          2|               3|              6|                1|51.509296|               1|      Kensington and Ch...|-0.194837|                   1|                 1|Metropolitan Police|                      1|        2|         30|2024-12-10 00:28:00|                  1|           2|\n",
      "+-------------+-------------+-----------+----------------+---------------+-----------------+---------+----------------+--------------------------+---------+--------------------+------------------+-------------------+-----------------------+---------+-----------+-------------------+-------------------+------------+\n",
      "only showing top 20 rows\n",
      "\n"
     ]
    }
   ],
   "source": [
    "# (Optionnel) Afficher les premières lignes pour vérifier le changement\n",
    "data_cleaned.show()"
   ]
  },
  {
   "cell_type": "code",
   "execution_count": 14,
   "metadata": {},
   "outputs": [
    {
     "name": "stderr",
     "output_type": "stream",
     "text": [
      "                                                                                \r"
     ]
    }
   ],
   "source": [
    "# Chemins pour sauvegarder les fichiers\n",
    "output_csv_path = '/Users/madina/Desktop/datalake/csv-accident/'\n",
    "output_parquet_path ='/Users/madina/Desktop/datalake/parquet-accident/'\n",
    "\n",
    "# Enregistrer au format CSV\n",
    "data_cleaned.coalesce(1).write.mode(\"overwrite\").option(\"header\", \"true\").csv(output_csv_path)\n",
    "\n",
    "# Enregistrer au format Parquet\n",
    "# Écriture des données en un seul fichier Parquet\n",
    "#data_cleaned.coalesce(1).write.mode(\"overwrite\").parquet(output_parquet_path)\n",
    "\n",
    "\n",
    "#print(\"Les fichiers ont été sauvegardés en CSV et Parquet avec succès.\")\n"
   ]
  }
 ],
 "metadata": {
  "kernelspec": {
   "display_name": "datalake",
   "language": "python",
   "name": "python3"
  },
  "language_info": {
   "codemirror_mode": {
    "name": "ipython",
    "version": 3
   },
   "file_extension": ".py",
   "mimetype": "text/x-python",
   "name": "python",
   "nbconvert_exporter": "python",
   "pygments_lexer": "ipython3",
   "version": "3.13.0"
  }
 },
 "nbformat": 4,
 "nbformat_minor": 2
}
