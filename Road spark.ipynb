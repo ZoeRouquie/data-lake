{
 "cells": [
  {
   "cell_type": "code",
   "execution_count": 2,
   "metadata": {},
   "outputs": [],
   "source": [
    "from pyspark.sql import SparkSession\n",
    "from pyspark.sql.functions import col, when"
   ]
  },
  {
   "cell_type": "code",
   "execution_count": 5,
   "metadata": {},
   "outputs": [
    {
     "ename": "PySparkRuntimeError",
     "evalue": "[JAVA_GATEWAY_EXITED] Java gateway process exited before sending its port number.",
     "output_type": "error",
     "traceback": [
      "\u001b[1;31m---------------------------------------------------------------------------\u001b[0m",
      "\u001b[1;31mPySparkRuntimeError\u001b[0m                       Traceback (most recent call last)",
      "Cell \u001b[1;32mIn[5], line 5\u001b[0m\n\u001b[0;32m      1\u001b[0m spark \u001b[38;5;241m=\u001b[39m \u001b[43mSparkSession\u001b[49m\u001b[38;5;241;43m.\u001b[39;49m\u001b[43mbuilder\u001b[49m\u001b[43m \u001b[49m\u001b[43m\\\u001b[49m\n\u001b[0;32m      2\u001b[0m \u001b[43m    \u001b[49m\u001b[38;5;241;43m.\u001b[39;49m\u001b[43mappName\u001b[49m\u001b[43m(\u001b[49m\u001b[38;5;124;43m\"\u001b[39;49m\u001b[38;5;124;43mDataCleaningWithSpark\u001b[39;49m\u001b[38;5;124;43m\"\u001b[39;49m\u001b[43m)\u001b[49m\u001b[43m \u001b[49m\u001b[43m\\\u001b[49m\n\u001b[0;32m      3\u001b[0m \u001b[43m    \u001b[49m\u001b[38;5;241;43m.\u001b[39;49m\u001b[43mconfig\u001b[49m\u001b[43m(\u001b[49m\u001b[38;5;124;43m\"\u001b[39;49m\u001b[38;5;124;43mspark.executor.memory\u001b[39;49m\u001b[38;5;124;43m\"\u001b[39;49m\u001b[43m,\u001b[49m\u001b[43m \u001b[49m\u001b[38;5;124;43m\"\u001b[39;49m\u001b[38;5;124;43m2g\u001b[39;49m\u001b[38;5;124;43m\"\u001b[39;49m\u001b[43m)\u001b[49m\u001b[43m \u001b[49m\u001b[43m\\\u001b[49m\n\u001b[0;32m      4\u001b[0m \u001b[43m    \u001b[49m\u001b[38;5;241;43m.\u001b[39;49m\u001b[43mconfig\u001b[49m\u001b[43m(\u001b[49m\u001b[38;5;124;43m\"\u001b[39;49m\u001b[38;5;124;43mspark.driver.memory\u001b[39;49m\u001b[38;5;124;43m\"\u001b[39;49m\u001b[43m,\u001b[49m\u001b[43m \u001b[49m\u001b[38;5;124;43m\"\u001b[39;49m\u001b[38;5;124;43m2g\u001b[39;49m\u001b[38;5;124;43m\"\u001b[39;49m\u001b[43m)\u001b[49m\u001b[43m \u001b[49m\u001b[43m\\\u001b[49m\n\u001b[1;32m----> 5\u001b[0m \u001b[43m    \u001b[49m\u001b[38;5;241;43m.\u001b[39;49m\u001b[43mgetOrCreate\u001b[49m\u001b[43m(\u001b[49m\u001b[43m)\u001b[49m\n",
      "File \u001b[1;32mc:\\Users\\zoero\\anaconda3\\envs\\DataScience\\lib\\site-packages\\pyspark\\sql\\session.py:497\u001b[0m, in \u001b[0;36mSparkSession.Builder.getOrCreate\u001b[1;34m(self)\u001b[0m\n\u001b[0;32m    495\u001b[0m     sparkConf\u001b[38;5;241m.\u001b[39mset(key, value)\n\u001b[0;32m    496\u001b[0m \u001b[38;5;66;03m# This SparkContext may be an existing one.\u001b[39;00m\n\u001b[1;32m--> 497\u001b[0m sc \u001b[38;5;241m=\u001b[39m \u001b[43mSparkContext\u001b[49m\u001b[38;5;241;43m.\u001b[39;49m\u001b[43mgetOrCreate\u001b[49m\u001b[43m(\u001b[49m\u001b[43msparkConf\u001b[49m\u001b[43m)\u001b[49m\n\u001b[0;32m    498\u001b[0m \u001b[38;5;66;03m# Do not update `SparkConf` for existing `SparkContext`, as it's shared\u001b[39;00m\n\u001b[0;32m    499\u001b[0m \u001b[38;5;66;03m# by all sessions.\u001b[39;00m\n\u001b[0;32m    500\u001b[0m session \u001b[38;5;241m=\u001b[39m SparkSession(sc, options\u001b[38;5;241m=\u001b[39m\u001b[38;5;28mself\u001b[39m\u001b[38;5;241m.\u001b[39m_options)\n",
      "File \u001b[1;32mc:\\Users\\zoero\\anaconda3\\envs\\DataScience\\lib\\site-packages\\pyspark\\context.py:515\u001b[0m, in \u001b[0;36mSparkContext.getOrCreate\u001b[1;34m(cls, conf)\u001b[0m\n\u001b[0;32m    513\u001b[0m \u001b[38;5;28;01mwith\u001b[39;00m SparkContext\u001b[38;5;241m.\u001b[39m_lock:\n\u001b[0;32m    514\u001b[0m     \u001b[38;5;28;01mif\u001b[39;00m SparkContext\u001b[38;5;241m.\u001b[39m_active_spark_context \u001b[38;5;129;01mis\u001b[39;00m \u001b[38;5;28;01mNone\u001b[39;00m:\n\u001b[1;32m--> 515\u001b[0m         \u001b[43mSparkContext\u001b[49m\u001b[43m(\u001b[49m\u001b[43mconf\u001b[49m\u001b[38;5;241;43m=\u001b[39;49m\u001b[43mconf\u001b[49m\u001b[43m \u001b[49m\u001b[38;5;129;43;01mor\u001b[39;49;00m\u001b[43m \u001b[49m\u001b[43mSparkConf\u001b[49m\u001b[43m(\u001b[49m\u001b[43m)\u001b[49m\u001b[43m)\u001b[49m\n\u001b[0;32m    516\u001b[0m     \u001b[38;5;28;01massert\u001b[39;00m SparkContext\u001b[38;5;241m.\u001b[39m_active_spark_context \u001b[38;5;129;01mis\u001b[39;00m \u001b[38;5;129;01mnot\u001b[39;00m \u001b[38;5;28;01mNone\u001b[39;00m\n\u001b[0;32m    517\u001b[0m     \u001b[38;5;28;01mreturn\u001b[39;00m SparkContext\u001b[38;5;241m.\u001b[39m_active_spark_context\n",
      "File \u001b[1;32mc:\\Users\\zoero\\anaconda3\\envs\\DataScience\\lib\\site-packages\\pyspark\\context.py:201\u001b[0m, in \u001b[0;36mSparkContext.__init__\u001b[1;34m(self, master, appName, sparkHome, pyFiles, environment, batchSize, serializer, conf, gateway, jsc, profiler_cls, udf_profiler_cls, memory_profiler_cls)\u001b[0m\n\u001b[0;32m    195\u001b[0m \u001b[38;5;28;01mif\u001b[39;00m gateway \u001b[38;5;129;01mis\u001b[39;00m \u001b[38;5;129;01mnot\u001b[39;00m \u001b[38;5;28;01mNone\u001b[39;00m \u001b[38;5;129;01mand\u001b[39;00m gateway\u001b[38;5;241m.\u001b[39mgateway_parameters\u001b[38;5;241m.\u001b[39mauth_token \u001b[38;5;129;01mis\u001b[39;00m \u001b[38;5;28;01mNone\u001b[39;00m:\n\u001b[0;32m    196\u001b[0m     \u001b[38;5;28;01mraise\u001b[39;00m \u001b[38;5;167;01mValueError\u001b[39;00m(\n\u001b[0;32m    197\u001b[0m         \u001b[38;5;124m\"\u001b[39m\u001b[38;5;124mYou are trying to pass an insecure Py4j gateway to Spark. This\u001b[39m\u001b[38;5;124m\"\u001b[39m\n\u001b[0;32m    198\u001b[0m         \u001b[38;5;124m\"\u001b[39m\u001b[38;5;124m is not allowed as it is a security risk.\u001b[39m\u001b[38;5;124m\"\u001b[39m\n\u001b[0;32m    199\u001b[0m     )\n\u001b[1;32m--> 201\u001b[0m \u001b[43mSparkContext\u001b[49m\u001b[38;5;241;43m.\u001b[39;49m\u001b[43m_ensure_initialized\u001b[49m\u001b[43m(\u001b[49m\u001b[38;5;28;43mself\u001b[39;49m\u001b[43m,\u001b[49m\u001b[43m \u001b[49m\u001b[43mgateway\u001b[49m\u001b[38;5;241;43m=\u001b[39;49m\u001b[43mgateway\u001b[49m\u001b[43m,\u001b[49m\u001b[43m \u001b[49m\u001b[43mconf\u001b[49m\u001b[38;5;241;43m=\u001b[39;49m\u001b[43mconf\u001b[49m\u001b[43m)\u001b[49m\n\u001b[0;32m    202\u001b[0m \u001b[38;5;28;01mtry\u001b[39;00m:\n\u001b[0;32m    203\u001b[0m     \u001b[38;5;28mself\u001b[39m\u001b[38;5;241m.\u001b[39m_do_init(\n\u001b[0;32m    204\u001b[0m         master,\n\u001b[0;32m    205\u001b[0m         appName,\n\u001b[1;32m   (...)\u001b[0m\n\u001b[0;32m    215\u001b[0m         memory_profiler_cls,\n\u001b[0;32m    216\u001b[0m     )\n",
      "File \u001b[1;32mc:\\Users\\zoero\\anaconda3\\envs\\DataScience\\lib\\site-packages\\pyspark\\context.py:436\u001b[0m, in \u001b[0;36mSparkContext._ensure_initialized\u001b[1;34m(cls, instance, gateway, conf)\u001b[0m\n\u001b[0;32m    434\u001b[0m \u001b[38;5;28;01mwith\u001b[39;00m SparkContext\u001b[38;5;241m.\u001b[39m_lock:\n\u001b[0;32m    435\u001b[0m     \u001b[38;5;28;01mif\u001b[39;00m \u001b[38;5;129;01mnot\u001b[39;00m SparkContext\u001b[38;5;241m.\u001b[39m_gateway:\n\u001b[1;32m--> 436\u001b[0m         SparkContext\u001b[38;5;241m.\u001b[39m_gateway \u001b[38;5;241m=\u001b[39m gateway \u001b[38;5;129;01mor\u001b[39;00m \u001b[43mlaunch_gateway\u001b[49m\u001b[43m(\u001b[49m\u001b[43mconf\u001b[49m\u001b[43m)\u001b[49m\n\u001b[0;32m    437\u001b[0m         SparkContext\u001b[38;5;241m.\u001b[39m_jvm \u001b[38;5;241m=\u001b[39m SparkContext\u001b[38;5;241m.\u001b[39m_gateway\u001b[38;5;241m.\u001b[39mjvm\n\u001b[0;32m    439\u001b[0m     \u001b[38;5;28;01mif\u001b[39;00m instance:\n",
      "File \u001b[1;32mc:\\Users\\zoero\\anaconda3\\envs\\DataScience\\lib\\site-packages\\pyspark\\java_gateway.py:107\u001b[0m, in \u001b[0;36mlaunch_gateway\u001b[1;34m(conf, popen_kwargs)\u001b[0m\n\u001b[0;32m    104\u001b[0m     time\u001b[38;5;241m.\u001b[39msleep(\u001b[38;5;241m0.1\u001b[39m)\n\u001b[0;32m    106\u001b[0m \u001b[38;5;28;01mif\u001b[39;00m \u001b[38;5;129;01mnot\u001b[39;00m os\u001b[38;5;241m.\u001b[39mpath\u001b[38;5;241m.\u001b[39misfile(conn_info_file):\n\u001b[1;32m--> 107\u001b[0m     \u001b[38;5;28;01mraise\u001b[39;00m PySparkRuntimeError(\n\u001b[0;32m    108\u001b[0m         error_class\u001b[38;5;241m=\u001b[39m\u001b[38;5;124m\"\u001b[39m\u001b[38;5;124mJAVA_GATEWAY_EXITED\u001b[39m\u001b[38;5;124m\"\u001b[39m,\n\u001b[0;32m    109\u001b[0m         message_parameters\u001b[38;5;241m=\u001b[39m{},\n\u001b[0;32m    110\u001b[0m     )\n\u001b[0;32m    112\u001b[0m \u001b[38;5;28;01mwith\u001b[39;00m \u001b[38;5;28mopen\u001b[39m(conn_info_file, \u001b[38;5;124m\"\u001b[39m\u001b[38;5;124mrb\u001b[39m\u001b[38;5;124m\"\u001b[39m) \u001b[38;5;28;01mas\u001b[39;00m info:\n\u001b[0;32m    113\u001b[0m     gateway_port \u001b[38;5;241m=\u001b[39m read_int(info)\n",
      "\u001b[1;31mPySparkRuntimeError\u001b[0m: [JAVA_GATEWAY_EXITED] Java gateway process exited before sending its port number."
     ]
    }
   ],
   "source": [
    "spark = SparkSession.builder \\\n",
    "    .appName(\"DataCleaningWithSpark\") \\\n",
    "    .config(\"spark.executor.memory\", \"2g\") \\\n",
    "    .config(\"spark.driver.memory\", \"2g\") \\\n",
    "    .getOrCreate()"
   ]
  },
  {
   "cell_type": "code",
   "execution_count": null,
   "metadata": {},
   "outputs": [
    {
     "name": "stderr",
     "output_type": "stream",
     "text": [
      "                                                                                \r"
     ]
    }
   ],
   "source": [
    "# 1. Lire le fichier CSV avec Spark\n",
    "data_spark = spark.read.csv(\"Road Accident Data.csv\", header=True, inferSchema=True)\n"
   ]
  },
  {
   "cell_type": "code",
   "execution_count": null,
   "metadata": {},
   "outputs": [
    {
     "name": "stdout",
     "output_type": "stream",
     "text": [
      "+--------------+-------------+-----------+--------------------+--------------------+-----------------+---------+--------------------+--------------------------+-------------------+---------+--------------------+------------------+-------------------+-----------------------+------------------+-----------+-------------------+-------------------+------------------+--------------------+\n",
      "|Accident_Index|Accident Date|Day_of_Week|    Junction_Control|     Junction_Detail|Accident_Severity| Latitude|    Light_Conditions|Local_Authority_(District)|Carriageway_Hazards|Longitude|Number_of_Casualties|Number_of_Vehicles|       Police_Force|Road_Surface_Conditions|         Road_Type|Speed_limit|               Time|Urban_or_Rural_Area|Weather_Conditions|        Vehicle_Type|\n",
      "+--------------+-------------+-----------+--------------------+--------------------+-----------------+---------+--------------------+--------------------------+-------------------+---------+--------------------+------------------+-------------------+-----------------------+------------------+-----------+-------------------+-------------------+------------------+--------------------+\n",
      "| 200901BS70001|     1/1/2021|   Thursday|Give way or uncon...|T or staggered ju...|          Serious|51.512273|            Daylight|      Kensington and Ch...|               None|-0.201349|                   1|                 2|Metropolitan Police|                    Dry|    One way street|         30|2024-12-10 15:11:00|              Urban|Fine no high winds|                 Car|\n",
      "| 200901BS70002|     1/5/2021|     Monday|Give way or uncon...|          Crossroads|          Serious|51.514399|            Daylight|      Kensington and Ch...|               None|-0.199248|                  11|                 2|Metropolitan Police|            Wet or damp|Single carriageway|         30|2024-12-10 10:59:00|              Urban|Fine no high winds|Taxi/Private hire...|\n",
      "| 200901BS70003|     1/4/2021|     Sunday|Give way or uncon...|T or staggered ju...|           Slight|51.486668|            Daylight|      Kensington and Ch...|               None|-0.179599|                   1|                 2|Metropolitan Police|                    Dry|Single carriageway|         30|2024-12-10 14:19:00|              Urban|Fine no high winds|Taxi/Private hire...|\n",
      "| 200901BS70004|     1/5/2021|     Monday| Auto traffic signal|T or staggered ju...|          Serious|51.507804|            Daylight|      Kensington and Ch...|               None| -0.20311|                   1|                 2|Metropolitan Police|           Frost or ice|Single carriageway|         30|2024-12-10 08:10:00|              Urban|             Other|Motorcycle over 5...|\n",
      "| 200901BS70005|     1/6/2021|    Tuesday| Auto traffic signal|          Crossroads|          Serious|51.482076|Darkness - lights...|      Kensington and Ch...|               None|-0.173445|                   1|                 2|Metropolitan Police|                    Dry|Single carriageway|         30|2024-12-10 17:25:00|              Urban|Fine no high winds|                 Car|\n",
      "| 200901BS70006|     1/1/2021|   Thursday|Give way or uncon...|T or staggered ju...|           Slight|51.493415|            Daylight|      Kensington and Ch...|               None|-0.185525|                   3|                 2|Metropolitan Police|                    Dry|Single carriageway|         30|2024-12-10 11:48:00|              Urban|Fine no high winds|                 Car|\n",
      "| 200901BS70007|     1/8/2021|   Thursday|Give way or uncon...|T or staggered ju...|          Serious|51.480177|            Daylight|      Kensington and Ch...|               None|-0.178561|                   1|                 2|Metropolitan Police|                    Dry|Single carriageway|         30|2024-12-10 13:58:00|              Urban|Fine no high winds|Motorcycle over 5...|\n",
      "| 200901BS70008|     1/2/2021|     Friday| Auto traffic signal|          Crossroads|           Slight|51.491957|            Daylight|      Kensington and Ch...|               None|-0.178524|                   1|                 1|Metropolitan Police|                    Dry|  Dual carriageway|         30|2024-12-10 13:18:00|              Urban|Fine no high winds|                 Car|\n",
      "| 200901BS70009|     1/7/2021|  Wednesday|Give way or uncon...|T or staggered ju...|           Slight| 51.49646|            Daylight|      Kensington and Ch...|               None|-0.167395|                   2|                 1|Metropolitan Police|                    Dry|Single carriageway|         30|2024-12-10 12:15:00|              Urban|Fine no high winds|Van / Goods 3.5 t...|\n",
      "| 200901BS70010|    1/10/2021|   Saturday| Auto traffic signal|          Crossroads|           Slight| 51.48115|            Daylight|      Kensington and Ch...|               None|-0.183275|                   1|                 1|Metropolitan Police|            Wet or damp|Single carriageway|         30|2024-12-10 09:52:00|              Urban|             Other|                 Car|\n",
      "+--------------+-------------+-----------+--------------------+--------------------+-----------------+---------+--------------------+--------------------------+-------------------+---------+--------------------+------------------+-------------------+-----------------------+------------------+-----------+-------------------+-------------------+------------------+--------------------+\n",
      "only showing top 10 rows\n",
      "\n"
     ]
    }
   ],
   "source": [
    "# Afficher les premières lignes pour vérifier les données\n",
    "data_spark.show(10)"
   ]
  },
  {
   "cell_type": "code",
   "execution_count": null,
   "metadata": {},
   "outputs": [],
   "source": [
    "#Supprimer les colonnes inutiles (Carriageway_Hazards, Weather_Conditions)\n",
    "data_spark = data_spark.drop(\"Carriageway_Hazards\", \"Weather_Conditions\")"
   ]
  },
  {
   "cell_type": "code",
   "execution_count": null,
   "metadata": {},
   "outputs": [],
   "source": [
    "# Supprimer les lignes avec des valeurs manquantes dans des colonnes spécifiques\n",
    "data_cleaned = data_spark.dropna(subset=[\"Road_Surface_Conditions\", \"Road_Type\", \"Time\"])"
   ]
  },
  {
   "cell_type": "code",
   "execution_count": null,
   "metadata": {},
   "outputs": [
    {
     "name": "stdout",
     "output_type": "stream",
     "text": [
      "Vérifier les NaN restants dans le DataFrame :\n",
      "+--------------+-------------+-----------+----------------+---------------+-----------------+--------+----------------+--------------------------+---------+--------------------+------------------+------------+-----------------------+---------+-----------+-----+-------------------+------------+\n",
      "|Accident_Index|Accident Date|Day_of_Week|Junction_Control|Junction_Detail|Accident_Severity|Latitude|Light_Conditions|Local_Authority_(District)|Longitude|Number_of_Casualties|Number_of_Vehicles|Police_Force|Road_Surface_Conditions|Road_Type|Speed_limit| Time|Urban_or_Rural_Area|Vehicle_Type|\n",
      "+--------------+-------------+-----------+----------------+---------------+-----------------+--------+----------------+--------------------------+---------+--------------------+------------------+------------+-----------------------+---------+-----------+-----+-------------------+------------+\n",
      "|         false|        false|      false|           false|          false|            false|   false|           false|                     false|    false|               false|             false|       false|                  false|    false|      false|false|              false|       false|\n",
      "|         false|        false|      false|           false|          false|            false|   false|           false|                     false|    false|               false|             false|       false|                  false|    false|      false|false|              false|       false|\n",
      "|         false|        false|      false|           false|          false|            false|   false|           false|                     false|    false|               false|             false|       false|                  false|    false|      false|false|              false|       false|\n",
      "|         false|        false|      false|           false|          false|            false|   false|           false|                     false|    false|               false|             false|       false|                  false|    false|      false|false|              false|       false|\n",
      "|         false|        false|      false|           false|          false|            false|   false|           false|                     false|    false|               false|             false|       false|                  false|    false|      false|false|              false|       false|\n",
      "|         false|        false|      false|           false|          false|            false|   false|           false|                     false|    false|               false|             false|       false|                  false|    false|      false|false|              false|       false|\n",
      "|         false|        false|      false|           false|          false|            false|   false|           false|                     false|    false|               false|             false|       false|                  false|    false|      false|false|              false|       false|\n",
      "|         false|        false|      false|           false|          false|            false|   false|           false|                     false|    false|               false|             false|       false|                  false|    false|      false|false|              false|       false|\n",
      "|         false|        false|      false|           false|          false|            false|   false|           false|                     false|    false|               false|             false|       false|                  false|    false|      false|false|              false|       false|\n",
      "|         false|        false|      false|           false|          false|            false|   false|           false|                     false|    false|               false|             false|       false|                  false|    false|      false|false|              false|       false|\n",
      "|         false|        false|      false|           false|          false|            false|   false|           false|                     false|    false|               false|             false|       false|                  false|    false|      false|false|              false|       false|\n",
      "|         false|        false|      false|           false|          false|            false|   false|           false|                     false|    false|               false|             false|       false|                  false|    false|      false|false|              false|       false|\n",
      "|         false|        false|      false|           false|          false|            false|   false|           false|                     false|    false|               false|             false|       false|                  false|    false|      false|false|              false|       false|\n",
      "|         false|        false|      false|           false|          false|            false|   false|           false|                     false|    false|               false|             false|       false|                  false|    false|      false|false|              false|       false|\n",
      "|         false|        false|      false|           false|          false|            false|   false|           false|                     false|    false|               false|             false|       false|                  false|    false|      false|false|              false|       false|\n",
      "|         false|        false|      false|           false|          false|            false|   false|           false|                     false|    false|               false|             false|       false|                  false|    false|      false|false|              false|       false|\n",
      "|         false|        false|      false|           false|          false|            false|   false|           false|                     false|    false|               false|             false|       false|                  false|    false|      false|false|              false|       false|\n",
      "|         false|        false|      false|           false|          false|            false|   false|           false|                     false|    false|               false|             false|       false|                  false|    false|      false|false|              false|       false|\n",
      "|         false|        false|      false|           false|          false|            false|   false|           false|                     false|    false|               false|             false|       false|                  false|    false|      false|false|              false|       false|\n",
      "|         false|        false|      false|           false|          false|            false|   false|           false|                     false|    false|               false|             false|       false|                  false|    false|      false|false|              false|       false|\n",
      "+--------------+-------------+-----------+----------------+---------------+-----------------+--------+----------------+--------------------------+---------+--------------------+------------------+------------+-----------------------+---------+-----------+-----+-------------------+------------+\n",
      "only showing top 20 rows\n",
      "\n"
     ]
    }
   ],
   "source": [
    "# Vérifier les NaN restants\n",
    "print(\"Vérifier les NaN restants dans le DataFrame :\")\n",
    "data_cleaned.select([col(c).isNull().alias(c) for c in data_cleaned.columns]).show()"
   ]
  },
  {
   "cell_type": "code",
   "execution_count": null,
   "metadata": {},
   "outputs": [],
   "source": [
    "# Dictionnaire de mapping pour plusieurs colonnes\n",
    "column_mappings = {\n",
    "    \"Day_of_Week\": {\n",
    "        \"Monday\": 1, \"Tuesday\": 2, \"Wednesday\": 3, \"Thursday\": 4,\n",
    "        \"Friday\": 5, \"Saturday\": 6, \"Sunday\": 7\n",
    "    },\n",
    "    \"Junction_Control\": {\n",
    "        \"Authorised person\": 1, \"Auto traffic signal\": 1, \"Stop sign\": 1,\n",
    "        \"Auto traffic sigl\": 1,\"Give way or uncontrolled\": 2,\n",
    "          \"Not at junction or within 20 metres\": 2,\n",
    "        \"Data missing or out of range\": 3\n",
    "    },\n",
    "    \"Junction_Detail\": { \n",
    "       \"Roundabout\": 1, \"Mini-roundabout\": 1, \"Crossroads\": 2, \n",
    "       \"More than 4 arms (not roundabout)\": 2, \"T or staggered junction\": 3, \"Slip road\": 4,\n",
    "       \"Private drive or entrance\": 4, \"Other junction\": 5, \"Not at junction or within 20 metres\": 6\n",
    "    },\n",
    "    \"Accident_Severity\": {\n",
    "        \"Slight\": 1, \"Serious\": 2, \"Fetal\": 3, \"Fatal\": 3\n",
    "    },\n",
    "    \"Light_Conditions\": { \n",
    "        \"Darkness - lighting unknown\": 0, \"Darkness - no lighting\": 0, \"Darkness - lights unlit\": 0, \n",
    "        \"Darkness - lights lit\": 1, \"Daylight\": 2\n",
    "    },\n",
    "    \"Road_Surface_Conditions\": {\n",
    "        \"Dry\": 1,  \"Wet or damp\": 2, \"Snow\": 3,\n",
    "          \"Frost or ice\": 4,  \"Flood over 3cm. deep\": 5\n",
    "    },\n",
    "    \"Road_Type\": {\n",
    "        \"Slip road\": 1, \"Single carriageway\": 2, \n",
    "        \"One way street\": 3, \"Roundabout\": 4, \"Dual carriageway\": 5\n",
    "\n",
    "    },\n",
    "    \"Urban_or_Rural_Area\": {\n",
    "        \"Urban\": 1, \"Rural\": 0\n",
    "    },\n",
    "    \"Vehicle_Type\": {\n",
    "          \"Pedal cycle\": 1,  \"Ridden horse\": 1,  \"Motorcycle 50cc and under\": 1,  \n",
    "          \"Motorcycle 125cc and under\": 1,  \"Motorcycle over 125cc and up to 500cc\": 1,  \n",
    "          \"Motorcycle over 500cc\": 1,  \"Car\": 2,  \"Taxi/Private hire car\": 2,  \n",
    "          \"Minibus (8 - 16 passenger seats)\": 2,  \"Van / Goods 3.5 tonnes mgw or under\": 3,  \n",
    "          \"Agricultural vehicle\": 3,  \"Goods over 3.5t. and under 7.5t\": 4,  \n",
    "          \"Bus or coach (17 or more pass seats)\": 4,  \"Goods 7.5 tonnes mgw and over\": 4,  \n",
    "          \"Other vehicle\": 5  \n",
    "    }\n",
    "}"
   ]
  },
  {
   "cell_type": "code",
   "execution_count": null,
   "metadata": {},
   "outputs": [],
   "source": [
    "from pyspark.sql.functions import create_map, lit, col"
   ]
  },
  {
   "cell_type": "code",
   "execution_count": null,
   "metadata": {},
   "outputs": [],
   "source": [
    "# Appliquer les mappings directement sur les colonnes existantes\n",
    "for column, mapping in column_mappings.items():\n",
    "    # Créez une expression \"when\" pour effectuer la transformation\n",
    "    expression = None\n",
    "    for key, value in mapping.items():\n",
    "        if expression is None:\n",
    "            expression = when(col(column) == key, value)\n",
    "        else:\n",
    "            expression = expression.when(col(column) == key, value)\n",
    "    \n",
    "    # Ajoutez une gestion des valeurs non mappées (optionnelle)\n",
    "    expression = expression.otherwise(None)  # Ou -1 si vous voulez une valeur par défaut\n",
    "    \n",
    "    # Remplacez la colonne par la version transformée\n",
    "    data_cleaned = data_cleaned.withColumn(column, expression)"
   ]
  },
  {
   "cell_type": "code",
   "execution_count": null,
   "metadata": {},
   "outputs": [
    {
     "name": "stdout",
     "output_type": "stream",
     "text": [
      "+-----------+----------------+---------------+-----------------+----------------+-----------------------+---------+-------------------+------------+\n",
      "|Day_of_Week|Junction_Control|Junction_Detail|Accident_Severity|Light_Conditions|Road_Surface_Conditions|Road_Type|Urban_or_Rural_Area|Vehicle_Type|\n",
      "+-----------+----------------+---------------+-----------------+----------------+-----------------------+---------+-------------------+------------+\n",
      "|          4|               2|              3|                2|               2|                      1|        3|                  1|           2|\n",
      "|          1|               2|              2|                2|               2|                      2|        2|                  1|           2|\n",
      "|          7|               2|              3|                1|               2|                      1|        2|                  1|           2|\n",
      "|          1|               1|              3|                2|               2|                      4|        2|                  1|           1|\n",
      "|          2|               1|              2|                2|               1|                      1|        2|                  1|           2|\n",
      "|          4|               2|              3|                1|               2|                      1|        2|                  1|           2|\n",
      "|          4|               2|              3|                2|               2|                      1|        2|                  1|           1|\n",
      "|          5|               1|              2|                1|               2|                      1|        5|                  1|           2|\n",
      "|          3|               2|              3|                1|               2|                      1|        2|                  1|           3|\n",
      "|          6|               1|              2|                1|               2|                      2|        2|                  1|           2|\n",
      "|          3|               1|              2|                1|               1|                      1|        2|                  1|           2|\n",
      "|          5|               1|              2|                1|               1|                      1|        2|                  1|           2|\n",
      "|          1|               3|              6|                1|               2|                      2|        2|                  1|           2|\n",
      "|          5|               2|              3|                1|               2|                      2|        2|                  1|           2|\n",
      "|          6|               2|              3|                1|               2|                      1|        2|                  1|           2|\n",
      "|          7|               1|              2|                2|               1|                      1|        2|                  1|           2|\n",
      "|          1|               2|              2|                1|               1|                      1|        2|                  1|           3|\n",
      "|          1|               3|              6|                1|               1|                      1|        2|                  1|           2|\n",
      "|          1|               2|              3|                1|               2|                      2|        2|                  1|           2|\n",
      "|          2|               3|              6|                1|               1|                      1|        2|                  1|           2|\n",
      "+-----------+----------------+---------------+-----------------+----------------+-----------------------+---------+-------------------+------------+\n",
      "only showing top 20 rows\n",
      "\n"
     ]
    }
   ],
   "source": [
    "# Afficher quelques exemples\n",
    "data_cleaned.select(list(column_mappings.keys())).show()\n"
   ]
  },
  {
   "cell_type": "code",
   "execution_count": null,
   "metadata": {},
   "outputs": [],
   "source": [
    "# Renommer la colonne Accident_Index en AccidentIndex\n",
    "data_cleaned = data_cleaned.withColumnRenamed(\"Accident_Index\", \"AccidentIndex\")\n"
   ]
  },
  {
   "cell_type": "code",
   "execution_count": null,
   "metadata": {},
   "outputs": [
    {
     "name": "stdout",
     "output_type": "stream",
     "text": [
      "+-------------+-------------+-----------+----------------+---------------+-----------------+---------+----------------+--------------------------+---------+--------------------+------------------+-------------------+-----------------------+---------+-----------+-------------------+-------------------+------------+\n",
      "|AccidentIndex|Accident Date|Day_of_Week|Junction_Control|Junction_Detail|Accident_Severity| Latitude|Light_Conditions|Local_Authority_(District)|Longitude|Number_of_Casualties|Number_of_Vehicles|       Police_Force|Road_Surface_Conditions|Road_Type|Speed_limit|               Time|Urban_or_Rural_Area|Vehicle_Type|\n",
      "+-------------+-------------+-----------+----------------+---------------+-----------------+---------+----------------+--------------------------+---------+--------------------+------------------+-------------------+-----------------------+---------+-----------+-------------------+-------------------+------------+\n",
      "|200901BS70001|     1/1/2021|          4|               2|              3|                2|51.512273|               2|      Kensington and Ch...|-0.201349|                   1|                 2|Metropolitan Police|                      1|        3|         30|2024-12-10 15:11:00|                  1|           2|\n",
      "|200901BS70002|     1/5/2021|          1|               2|              2|                2|51.514399|               2|      Kensington and Ch...|-0.199248|                  11|                 2|Metropolitan Police|                      2|        2|         30|2024-12-10 10:59:00|                  1|           2|\n",
      "|200901BS70003|     1/4/2021|          7|               2|              3|                1|51.486668|               2|      Kensington and Ch...|-0.179599|                   1|                 2|Metropolitan Police|                      1|        2|         30|2024-12-10 14:19:00|                  1|           2|\n",
      "|200901BS70004|     1/5/2021|          1|               1|              3|                2|51.507804|               2|      Kensington and Ch...| -0.20311|                   1|                 2|Metropolitan Police|                      4|        2|         30|2024-12-10 08:10:00|                  1|           1|\n",
      "|200901BS70005|     1/6/2021|          2|               1|              2|                2|51.482076|               1|      Kensington and Ch...|-0.173445|                   1|                 2|Metropolitan Police|                      1|        2|         30|2024-12-10 17:25:00|                  1|           2|\n",
      "|200901BS70006|     1/1/2021|          4|               2|              3|                1|51.493415|               2|      Kensington and Ch...|-0.185525|                   3|                 2|Metropolitan Police|                      1|        2|         30|2024-12-10 11:48:00|                  1|           2|\n",
      "|200901BS70007|     1/8/2021|          4|               2|              3|                2|51.480177|               2|      Kensington and Ch...|-0.178561|                   1|                 2|Metropolitan Police|                      1|        2|         30|2024-12-10 13:58:00|                  1|           1|\n",
      "|200901BS70008|     1/2/2021|          5|               1|              2|                1|51.491957|               2|      Kensington and Ch...|-0.178524|                   1|                 1|Metropolitan Police|                      1|        5|         30|2024-12-10 13:18:00|                  1|           2|\n",
      "|200901BS70009|     1/7/2021|          3|               2|              3|                1| 51.49646|               2|      Kensington and Ch...|-0.167395|                   2|                 1|Metropolitan Police|                      1|        2|         30|2024-12-10 12:15:00|                  1|           3|\n",
      "|200901BS70010|    1/10/2021|          6|               1|              2|                1| 51.48115|               2|      Kensington and Ch...|-0.183275|                   1|                 1|Metropolitan Police|                      2|        2|         30|2024-12-10 09:52:00|                  1|           2|\n",
      "|200901BS70011|     1/7/2021|          3|               1|              2|                1|51.482076|               1|      Kensington and Ch...|-0.173445|                   1|                 2|Metropolitan Police|                      1|        2|         30|2024-12-10 00:09:00|                  1|           2|\n",
      "|200901BS70012|    1/16/2021|          5|               1|              2|                1|51.494995|               1|      Kensington and Ch...|-0.183013|                   1|                 1|Metropolitan Police|                      1|        2|         30|2024-12-10 17:49:00|                  1|           2|\n",
      "|200901BS70015|    1/12/2021|          1|               3|              6|                1|51.498778|               2|      Kensington and Ch...|-0.206779|                   1|                 2|Metropolitan Police|                      2|        2|         30|2024-12-10 14:00:00|                  1|           2|\n",
      "|200901BS70016|     1/9/2021|          5|               2|              3|                1|51.506187|               2|      Kensington and Ch...|-0.209082|                   1|                 2|Metropolitan Police|                      2|        2|         30|2024-12-10 08:15:00|                  1|           2|\n",
      "|200901BS70017|    1/17/2021|          6|               2|              3|                1|51.493077|               2|      Kensington and Ch...|-0.169548|                   1|                 2|Metropolitan Police|                      1|        2|         30|2024-12-10 12:15:00|                  1|           2|\n",
      "|200901BS70019|    1/25/2021|          7|               1|              2|                2|51.482076|               1|      Kensington and Ch...|-0.173445|                   1|                 2|Metropolitan Police|                      1|        2|         30|2024-12-10 22:05:00|                  1|           2|\n",
      "|200901BS70020|    1/26/2021|          1|               2|              2|                1|51.488673|               1|      Kensington and Ch...|-0.169724|                   1|                 2|Metropolitan Police|                      1|        2|         30|2024-12-10 17:30:00|                  1|           3|\n",
      "|200901BS70021|    1/26/2021|          1|               3|              6|                1|51.482363|               1|      Kensington and Ch...|-0.186108|                   1|                 1|Metropolitan Police|                      1|        2|         30|2024-12-10 17:05:00|                  1|           2|\n",
      "|200901BS70023|    1/19/2021|          1|               2|              3|                1| 51.49391|               2|      Kensington and Ch...|-0.176861|                   1|                 2|Metropolitan Police|                      2|        2|         30|2024-12-10 14:27:00|                  1|           2|\n",
      "|200901BS70024|    1/27/2021|          2|               3|              6|                1|51.509296|               1|      Kensington and Ch...|-0.194837|                   1|                 1|Metropolitan Police|                      1|        2|         30|2024-12-10 00:28:00|                  1|           2|\n",
      "+-------------+-------------+-----------+----------------+---------------+-----------------+---------+----------------+--------------------------+---------+--------------------+------------------+-------------------+-----------------------+---------+-----------+-------------------+-------------------+------------+\n",
      "only showing top 20 rows\n",
      "\n"
     ]
    }
   ],
   "source": [
    "# (Optionnel) Afficher les premières lignes pour vérifier le changement\n",
    "data_cleaned.show()"
   ]
  },
  {
   "cell_type": "code",
   "execution_count": null,
   "metadata": {},
   "outputs": [],
   "source": [
    "from uuid import uuid4\n",
    "\n",
    "for idx, row in data_cleaned.iterrows():\n",
    "    if 'E+' in str(row['Accident_Index']):  # Vérifier si 'E+' est une sous-chaîne\n",
    "        data_cleaned.at[idx, 'Accident_Index'] = str(uuid4())  # Convertir UUID en chaîne\n",
    "\n",
    "# Enregistrer le DataFrame modifié dans un fichier CSV\n",
    "data_cleaned.to_csv('Road Accident Data.csv', index=False)"
   ]
  },
  {
   "cell_type": "code",
   "execution_count": null,
   "metadata": {},
   "outputs": [
    {
     "name": "stderr",
     "output_type": "stream",
     "text": [
      "                                                                                \r"
     ]
    }
   ],
   "source": [
    "# Chemins pour sauvegarder les fichiers\n",
    "output_csv_path = '/Users/madina/Desktop/datalake/csv-accident/'\n",
    "output_parquet_path ='/Users/madina/Desktop/datalake/parquet-accident/'\n",
    "\n",
    "# Enregistrer au format CSV\n",
    "data_cleaned.coalesce(1).write.mode(\"overwrite\").option(\"header\", \"true\").csv(output_csv_path)\n",
    "\n",
    "# Enregistrer au format Parquet\n",
    "# Écriture des données en un seul fichier Parquet\n",
    "#data_cleaned.coalesce(1).write.mode(\"overwrite\").parquet(output_parquet_path)\n",
    "\n",
    "\n",
    "#print(\"Les fichiers ont été sauvegardés en CSV et Parquet avec succès.\")\n"
   ]
  }
 ],
 "metadata": {
  "kernelspec": {
   "display_name": "DataScience",
   "language": "python",
   "name": "python3"
  },
  "language_info": {
   "codemirror_mode": {
    "name": "ipython",
    "version": 3
   },
   "file_extension": ".py",
   "mimetype": "text/x-python",
   "name": "python",
   "nbconvert_exporter": "python",
   "pygments_lexer": "ipython3",
   "version": "3.10.15"
  }
 },
 "nbformat": 4,
 "nbformat_minor": 2
}
