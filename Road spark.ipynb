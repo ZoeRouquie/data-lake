{
 "cells": [
  {
   "cell_type": "code",
   "execution_count": 2,
   "metadata": {},
   "outputs": [],
   "source": [
    "from pyspark.sql import SparkSession\n",
    "from pyspark.sql.functions import col, when"
   ]
  },
  {
   "cell_type": "code",
   "execution_count": 4,
   "metadata": {},
   "outputs": [
    {
     "name": "stderr",
     "output_type": "stream",
     "text": [
      "24/11/26 16:45:08 WARN Utils: Your hostname, MacBook-Air-Madina.local resolves to a loopback address: 127.0.0.1; using 172.17.1.245 instead (on interface en0)\n",
      "24/11/26 16:45:08 WARN Utils: Set SPARK_LOCAL_IP if you need to bind to another address\n",
      "Setting default log level to \"WARN\".\n",
      "To adjust logging level use sc.setLogLevel(newLevel). For SparkR, use setLogLevel(newLevel).\n",
      "24/11/26 16:45:08 WARN NativeCodeLoader: Unable to load native-hadoop library for your platform... using builtin-java classes where applicable\n"
     ]
    }
   ],
   "source": [
    "# Créer une session Spark\n",
    "spark = SparkSession.builder.appName(\"DataCleaningWithSpark\").getOrCreate()"
   ]
  },
  {
   "cell_type": "code",
   "execution_count": 5,
   "metadata": {},
   "outputs": [
    {
     "name": "stderr",
     "output_type": "stream",
     "text": [
      "                                                                                \r"
     ]
    }
   ],
   "source": [
    "# 1. Lire le fichier CSV avec Spark\n",
    "data_spark = spark.read.csv(\"Road Accident Data.csv\", header=True, inferSchema=True)\n"
   ]
  },
  {
   "cell_type": "code",
   "execution_count": 7,
   "metadata": {},
   "outputs": [
    {
     "name": "stdout",
     "output_type": "stream",
     "text": [
      "+--------------+-------------+-----------+--------------------+--------------------+-----------------+---------+--------------------+--------------------------+-------------------+---------+--------------------+------------------+-------------------+-----------------------+------------------+-----------+-------------------+-------------------+------------------+--------------------+\n",
      "|Accident_Index|Accident Date|Day_of_Week|    Junction_Control|     Junction_Detail|Accident_Severity| Latitude|    Light_Conditions|Local_Authority_(District)|Carriageway_Hazards|Longitude|Number_of_Casualties|Number_of_Vehicles|       Police_Force|Road_Surface_Conditions|         Road_Type|Speed_limit|               Time|Urban_or_Rural_Area|Weather_Conditions|        Vehicle_Type|\n",
      "+--------------+-------------+-----------+--------------------+--------------------+-----------------+---------+--------------------+--------------------------+-------------------+---------+--------------------+------------------+-------------------+-----------------------+------------------+-----------+-------------------+-------------------+------------------+--------------------+\n",
      "| 200901BS70001|     1/1/2021|   Thursday|Give way or uncon...|T or staggered ju...|          Serious|51.512273|            Daylight|      Kensington and Ch...|               None|-0.201349|                   1|                 2|Metropolitan Police|                    Dry|    One way street|         30|2024-11-26 15:11:00|              Urban|Fine no high winds|                 Car|\n",
      "| 200901BS70002|     1/5/2021|     Monday|Give way or uncon...|          Crossroads|          Serious|51.514399|            Daylight|      Kensington and Ch...|               None|-0.199248|                  11|                 2|Metropolitan Police|            Wet or damp|Single carriageway|         30|2024-11-26 10:59:00|              Urban|Fine no high winds|Taxi/Private hire...|\n",
      "| 200901BS70003|     1/4/2021|     Sunday|Give way or uncon...|T or staggered ju...|           Slight|51.486668|            Daylight|      Kensington and Ch...|               None|-0.179599|                   1|                 2|Metropolitan Police|                    Dry|Single carriageway|         30|2024-11-26 14:19:00|              Urban|Fine no high winds|Taxi/Private hire...|\n",
      "| 200901BS70004|     1/5/2021|     Monday| Auto traffic signal|T or staggered ju...|          Serious|51.507804|            Daylight|      Kensington and Ch...|               None| -0.20311|                   1|                 2|Metropolitan Police|           Frost or ice|Single carriageway|         30|2024-11-26 08:10:00|              Urban|             Other|Motorcycle over 5...|\n",
      "| 200901BS70005|     1/6/2021|    Tuesday| Auto traffic signal|          Crossroads|          Serious|51.482076|Darkness - lights...|      Kensington and Ch...|               None|-0.173445|                   1|                 2|Metropolitan Police|                    Dry|Single carriageway|         30|2024-11-26 17:25:00|              Urban|Fine no high winds|                 Car|\n",
      "| 200901BS70006|     1/1/2021|   Thursday|Give way or uncon...|T or staggered ju...|           Slight|51.493415|            Daylight|      Kensington and Ch...|               None|-0.185525|                   3|                 2|Metropolitan Police|                    Dry|Single carriageway|         30|2024-11-26 11:48:00|              Urban|Fine no high winds|                 Car|\n",
      "| 200901BS70007|     1/8/2021|   Thursday|Give way or uncon...|T or staggered ju...|          Serious|51.480177|            Daylight|      Kensington and Ch...|               None|-0.178561|                   1|                 2|Metropolitan Police|                    Dry|Single carriageway|         30|2024-11-26 13:58:00|              Urban|Fine no high winds|Motorcycle over 5...|\n",
      "| 200901BS70008|     1/2/2021|     Friday| Auto traffic signal|          Crossroads|           Slight|51.491957|            Daylight|      Kensington and Ch...|               None|-0.178524|                   1|                 1|Metropolitan Police|                    Dry|  Dual carriageway|         30|2024-11-26 13:18:00|              Urban|Fine no high winds|                 Car|\n",
      "| 200901BS70009|     1/7/2021|  Wednesday|Give way or uncon...|T or staggered ju...|           Slight| 51.49646|            Daylight|      Kensington and Ch...|               None|-0.167395|                   2|                 1|Metropolitan Police|                    Dry|Single carriageway|         30|2024-11-26 12:15:00|              Urban|Fine no high winds|Van / Goods 3.5 t...|\n",
      "| 200901BS70010|    1/10/2021|   Saturday| Auto traffic signal|          Crossroads|           Slight| 51.48115|            Daylight|      Kensington and Ch...|               None|-0.183275|                   1|                 1|Metropolitan Police|            Wet or damp|Single carriageway|         30|2024-11-26 09:52:00|              Urban|             Other|                 Car|\n",
      "+--------------+-------------+-----------+--------------------+--------------------+-----------------+---------+--------------------+--------------------------+-------------------+---------+--------------------+------------------+-------------------+-----------------------+------------------+-----------+-------------------+-------------------+------------------+--------------------+\n",
      "only showing top 10 rows\n",
      "\n"
     ]
    }
   ],
   "source": [
    "# Afficher les premières lignes pour vérifier les données\n",
    "data_spark.show(10)"
   ]
  },
  {
   "cell_type": "code",
   "execution_count": 8,
   "metadata": {},
   "outputs": [],
   "source": [
    "#Supprimer les colonnes inutiles (Carriageway_Hazards, Weather_Conditions)\n",
    "data_spark = data_spark.drop(\"Carriageway_Hazards\", \"Weather_Conditions\")"
   ]
  },
  {
   "cell_type": "code",
   "execution_count": 9,
   "metadata": {},
   "outputs": [],
   "source": [
    "# Supprimer les lignes avec des valeurs manquantes dans des colonnes spécifiques\n",
    "data_cleaned = data_spark.dropna(subset=[\"Road_Surface_Conditions\", \"Road_Type\", \"Time\"])"
   ]
  },
  {
   "cell_type": "code",
   "execution_count": 10,
   "metadata": {},
   "outputs": [
    {
     "name": "stdout",
     "output_type": "stream",
     "text": [
      "Vérifier les NaN restants dans le DataFrame :\n",
      "+--------------+-------------+-----------+----------------+---------------+-----------------+--------+----------------+--------------------------+---------+--------------------+------------------+------------+-----------------------+---------+-----------+-----+-------------------+------------+\n",
      "|Accident_Index|Accident Date|Day_of_Week|Junction_Control|Junction_Detail|Accident_Severity|Latitude|Light_Conditions|Local_Authority_(District)|Longitude|Number_of_Casualties|Number_of_Vehicles|Police_Force|Road_Surface_Conditions|Road_Type|Speed_limit| Time|Urban_or_Rural_Area|Vehicle_Type|\n",
      "+--------------+-------------+-----------+----------------+---------------+-----------------+--------+----------------+--------------------------+---------+--------------------+------------------+------------+-----------------------+---------+-----------+-----+-------------------+------------+\n",
      "|         false|        false|      false|           false|          false|            false|   false|           false|                     false|    false|               false|             false|       false|                  false|    false|      false|false|              false|       false|\n",
      "|         false|        false|      false|           false|          false|            false|   false|           false|                     false|    false|               false|             false|       false|                  false|    false|      false|false|              false|       false|\n",
      "|         false|        false|      false|           false|          false|            false|   false|           false|                     false|    false|               false|             false|       false|                  false|    false|      false|false|              false|       false|\n",
      "|         false|        false|      false|           false|          false|            false|   false|           false|                     false|    false|               false|             false|       false|                  false|    false|      false|false|              false|       false|\n",
      "|         false|        false|      false|           false|          false|            false|   false|           false|                     false|    false|               false|             false|       false|                  false|    false|      false|false|              false|       false|\n",
      "|         false|        false|      false|           false|          false|            false|   false|           false|                     false|    false|               false|             false|       false|                  false|    false|      false|false|              false|       false|\n",
      "|         false|        false|      false|           false|          false|            false|   false|           false|                     false|    false|               false|             false|       false|                  false|    false|      false|false|              false|       false|\n",
      "|         false|        false|      false|           false|          false|            false|   false|           false|                     false|    false|               false|             false|       false|                  false|    false|      false|false|              false|       false|\n",
      "|         false|        false|      false|           false|          false|            false|   false|           false|                     false|    false|               false|             false|       false|                  false|    false|      false|false|              false|       false|\n",
      "|         false|        false|      false|           false|          false|            false|   false|           false|                     false|    false|               false|             false|       false|                  false|    false|      false|false|              false|       false|\n",
      "|         false|        false|      false|           false|          false|            false|   false|           false|                     false|    false|               false|             false|       false|                  false|    false|      false|false|              false|       false|\n",
      "|         false|        false|      false|           false|          false|            false|   false|           false|                     false|    false|               false|             false|       false|                  false|    false|      false|false|              false|       false|\n",
      "|         false|        false|      false|           false|          false|            false|   false|           false|                     false|    false|               false|             false|       false|                  false|    false|      false|false|              false|       false|\n",
      "|         false|        false|      false|           false|          false|            false|   false|           false|                     false|    false|               false|             false|       false|                  false|    false|      false|false|              false|       false|\n",
      "|         false|        false|      false|           false|          false|            false|   false|           false|                     false|    false|               false|             false|       false|                  false|    false|      false|false|              false|       false|\n",
      "|         false|        false|      false|           false|          false|            false|   false|           false|                     false|    false|               false|             false|       false|                  false|    false|      false|false|              false|       false|\n",
      "|         false|        false|      false|           false|          false|            false|   false|           false|                     false|    false|               false|             false|       false|                  false|    false|      false|false|              false|       false|\n",
      "|         false|        false|      false|           false|          false|            false|   false|           false|                     false|    false|               false|             false|       false|                  false|    false|      false|false|              false|       false|\n",
      "|         false|        false|      false|           false|          false|            false|   false|           false|                     false|    false|               false|             false|       false|                  false|    false|      false|false|              false|       false|\n",
      "|         false|        false|      false|           false|          false|            false|   false|           false|                     false|    false|               false|             false|       false|                  false|    false|      false|false|              false|       false|\n",
      "+--------------+-------------+-----------+----------------+---------------+-----------------+--------+----------------+--------------------------+---------+--------------------+------------------+------------+-----------------------+---------+-----------+-----+-------------------+------------+\n",
      "only showing top 20 rows\n",
      "\n"
     ]
    }
   ],
   "source": [
    "# Vérifier les NaN restants\n",
    "print(\"Vérifier les NaN restants dans le DataFrame :\")\n",
    "data_cleaned.select([col(c).isNull().alias(c) for c in data_cleaned.columns]).show()"
   ]
  }
 ],
 "metadata": {
  "kernelspec": {
   "display_name": "datalake",
   "language": "python",
   "name": "python3"
  },
  "language_info": {
   "codemirror_mode": {
    "name": "ipython",
    "version": 3
   },
   "file_extension": ".py",
   "mimetype": "text/x-python",
   "name": "python",
   "nbconvert_exporter": "python",
   "pygments_lexer": "ipython3",
   "version": "3.13.0"
  }
 },
 "nbformat": 4,
 "nbformat_minor": 2
}
