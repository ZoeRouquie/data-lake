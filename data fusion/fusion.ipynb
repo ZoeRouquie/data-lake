{
 "cells": [
  {
   "cell_type": "code",
   "execution_count": 1,
   "metadata": {},
   "outputs": [],
   "source": [
    "from pyspark.sql import SparkSession\n",
    "from pyspark.sql.functions import col"
   ]
  },
  {
   "cell_type": "code",
   "execution_count": 2,
   "metadata": {},
   "outputs": [
    {
     "name": "stderr",
     "output_type": "stream",
     "text": [
      "25/01/24 20:27:11 WARN Utils: Your hostname, MacBook-Air-Madina.local resolves to a loopback address: 127.0.0.1; using 10.188.13.32 instead (on interface en0)\n",
      "25/01/24 20:27:11 WARN Utils: Set SPARK_LOCAL_IP if you need to bind to another address\n",
      "Setting default log level to \"WARN\".\n",
      "To adjust logging level use sc.setLogLevel(newLevel). For SparkR, use setLogLevel(newLevel).\n",
      "25/01/24 20:27:12 WARN NativeCodeLoader: Unable to load native-hadoop library for your platform... using builtin-java classes where applicable\n"
     ]
    }
   ],
   "source": [
    "# Initialiser SparkSession\n",
    "spark = SparkSession.builder \\\n",
    "    .appName(\"Data Fusion - Weather and Accidents\") \\\n",
    "    .getOrCreate()"
   ]
  },
  {
   "cell_type": "code",
   "execution_count": 3,
   "metadata": {},
   "outputs": [
    {
     "name": "stderr",
     "output_type": "stream",
     "text": [
      "                                                                                \r"
     ]
    }
   ],
   "source": [
    "# Charger les données méteo et accidents\n",
    "weather_df2 = spark.read.option(\"multiLine\", True).json(\"../data formatage/Weather/weather_data2.json\")\n",
    "accidents_df = spark.read.csv(\"../data formatage/Accident/road clean.csv\", header=True, inferSchema=True)\n"
   ]
  },
  {
   "cell_type": "code",
   "execution_count": 4,
   "metadata": {},
   "outputs": [
    {
     "name": "stdout",
     "output_type": "stream",
     "text": [
      "1944\n",
      "3059\n"
     ]
    }
   ],
   "source": [
    "print(weather_df2.count())\n",
    "print(accidents_df.count())"
   ]
  },
  {
   "cell_type": "code",
   "execution_count": 4,
   "metadata": {},
   "outputs": [
    {
     "name": "stdout",
     "output_type": "stream",
     "text": [
      "Taille du DataFrame combiné : 1929\n"
     ]
    },
    {
     "name": "stderr",
     "output_type": "stream",
     "text": [
      "25/01/24 20:28:00 WARN SparkStringUtils: Truncated the string representation of a plan since it was too large. This behavior can be adjusted by setting 'spark.sql.debug.maxToStringFields'.\n"
     ]
    },
    {
     "name": "stdout",
     "output_type": "stream",
     "text": [
      "+--------------------+-------------+-----------+----------------+---------------+-----------------+---------+----------------+--------------------------+---------+--------------------+------------------+-------------------+-----------------------+---------+-----------+-------------------+-------------------+------------+----------+------------------+--------------+------------+--------------+--------------+------------------+\n",
      "|       AccidentIndex|Accident Date|Day_of_Week|Junction_Control|Junction_Detail|Accident_Severity| Latitude|Light_Conditions|Local_Authority_(District)|Longitude|Number_of_Casualties|Number_of_Vehicles|       Police_Force|Road_Surface_Conditions|Road_Type|Speed_limit|               Time|Urban_or_Rural_Area|Vehicle_Type|      Date|    DayLengthHours|MaxTemperature|MaxWindSpeed|MinTemperature|SolarRadiation|TotalPrecipitation|\n",
      "+--------------------+-------------+-----------+----------------+---------------+-----------------+---------+----------------+--------------------------+---------+--------------------+------------------+-------------------+-----------------------+---------+-----------+-------------------+-------------------+------------+----------+------------------+--------------+------------+--------------+--------------+------------------+\n",
      "|132b02e7-ef77-438...|   2021-06-01|          1|               3|              6|                1|51.360414|               2|                    Thanet| 1.395073|                   1|                 1|               Kent|                      1|        5|         30|2024-12-10 17:05:00|                  1|           2|2021-06-01|              16.3|          19.9|        23.6|          12.4|         29.64|               0.0|\n",
      "|       200920E008803|   2021-01-14|          3|               2|              1|                1| 52.46286|               1|                Birmingham|-1.887075|                   1|                 2|      West Midlands|                      2|        4|         40|2024-12-10 17:14:00|                  1|           2|2021-01-14| 8.166666666666666|           8.2|        16.0|           0.8|          0.74|              11.6|\n",
      "|       200920D177103|   2021-07-22|          3|               3|              6|                3|52.498658|               2|                Birmingham| -1.77341|                   1|                 1|      West Midlands|                      1|        2|         30|2024-12-10 20:10:00|                  1|           2|2021-07-22|16.033333333333335|          27.9|        10.4|          15.4|         23.59|               0.2|\n",
      "|0be814f4-fd0f-4e6...|   2022-02-24|          3|               3|              6|                1|53.795663|               0|                  Bradford|-1.802003|                   1|                 3|     West Yorkshire|                      1|        2|         30|2024-12-10 18:15:00|                  1|           2|2022-02-24|             10.45|           4.6|        36.1|           2.0|          7.06|               4.6|\n",
      "|047f1b60-3aab-421...|   2021-05-07|          4|               1|              3|                1|50.945826|               2|               Test Valley|-1.462045|                   2|                 2|          Hampshire|                      1|        2|         30|2024-12-10 11:20:00|                  1|           2|2021-05-07|15.133333333333333|          12.3|        18.4|           2.2|         20.51|               0.1|\n",
      "|       201032D342810|   2022-11-09|          2|               3|              6|                2|53.064155|               2|            North Kesteven|-0.459731|                   1|                 1|       Lincolnshire|                      2|        2|         60|2024-12-10 14:50:00|                  0|           2|2022-11-09| 9.016666666666667|          12.7|        28.0|           9.0|          5.44|               0.1|\n",
      "|       200901VK30104|   2021-04-16|          4|               2|              1|                1|51.386694|               2|      Kingston upon Thames|-0.300992|                   1|                 2|Metropolitan Police|                      1|        4|         30|2024-12-10 08:20:00|                  1|           2|2021-04-16|             13.95|           9.8|        11.7|          -1.7|         15.57|               0.0|\n",
      "|a05a9cf9-c7db-4cd...|   2022-01-12|          2|               3|              6|                1|51.622282|               2|                   Swansea|-4.018049|                   1|                 3|        South Wales|                      3|        2|         30|2024-12-10 16:00:00|                  1|           2|2022-01-12| 8.233333333333333|           7.3|         9.2|          -1.2|          4.46|               0.0|\n",
      "|       201060L130221|   2022-07-17|          6|               3|              6|                1|53.264106|               2|          Isle of Anglesey|-4.088681|                   1|                 1|        North Wales|                      1|        2|         30|2024-12-10 16:58:00|                  0|           2|2022-07-17|              16.4|          27.5|        24.3|          15.5|          25.2|               0.0|\n",
      "|4c60826f-f43d-4dd...|   2022-02-02|          2|               3|              6|                1|52.547018|               0|                   Rutland|-0.724045|                   2|                 1|     Leicestershire|                      2|        2|         60|2024-12-10 01:25:00|                  0|           2|2022-02-02| 9.133333333333333|          10.8|        31.3|           6.7|          3.69|               0.1|\n",
      "|       201001PY20336|   2022-06-10|          4|               2|              3|                1|51.404835|               2|                   Bromley|-0.056466|                   1|                 2|Metropolitan Police|                      1|        2|         30|2024-12-10 08:30:00|                  1|           2|2022-06-10|16.533333333333335|          20.7|        28.0|          13.4|         22.87|               0.1|\n",
      "|523f93b2-d58f-4bd...|   2022-11-06|          6|               2|              1|                1|51.158845|               1|                   Crawley|-0.154635|                   1|                 2|             Sussex|                      2|        4|         30|2024-12-10 05:10:00|                  1|           1|2022-11-06|               9.4|          14.2|        26.8|          10.3|          1.23|              21.5|\n",
      "|       2010550D33646|   2022-08-04|          3|               2|              3|                1|50.738963|               2|               West Dorset|-2.928789|                   1|                 2|             Dorset|                      1|        2|         60|2024-12-10 13:45:00|                  0|           2|2022-08-04|             15.15|          20.1|        21.7|          13.9|         19.84|               0.0|\n",
      "|       200997NE70403|   2021-03-25|          3|               3|              6|                1|55.855595|               0|           North Larkshire|-3.800373|                   1|                 1|        Strathclyde|                      2|        5|         70|2024-12-10 02:45:00|                  0|           3|2021-03-25|              12.6|           9.6|        26.8|           4.0|          9.17|               4.2|\n",
      "|       201050GN2A024|   2022-08-07|          6|               3|              6|                2|50.413853|               1|                  Cornwall|-5.086077|                   1|                 1| Devon and Cornwall|                      1|        3|         30|2024-12-10 01:00:00|                  1|           2|2022-08-07|14.966666666666667|          21.0|        19.4|          13.0|         25.94|               0.0|\n",
      "|       200906F023878|   2021-11-13|          5|               2|              2|                1|53.514177|               0|                   Salford|-2.343349|                   1|                 2| Greater Manchester|                      1|        2|         30|2024-12-10 17:10:00|                  1|           2|2021-11-13| 8.716666666666667|          12.3|        28.1|           4.6|          4.55|               0.0|\n",
      "|48080190-2b91-446...|   2022-01-26|          2|               3|              6|                1|50.741126|               0|                New Forest|-1.614622|                   1|                 2|          Hampshire|                      4|        2|         60|2024-12-10 19:20:00|                  0|           2|2022-01-26|              8.95|           7.4|        17.7|          -0.0|          5.64|               0.0|\n",
      "|       201045RE52185|   2022-07-07|          3|               3|              6|                1|51.285389|               2|      Reigate and Banstead|-0.184128|                   1|                 2|             Surrey|                      1|        2|         60|2024-12-10 08:45:00|                  0|           2|2022-07-07|              16.4|          23.0|        21.1|          15.0|         20.74|               0.0|\n",
      "|ca5923d2-4b40-497...|   2021-12-11|          5|               2|              3|                1|50.745702|               1|                New Forest|-1.670145|                   1|                 1|          Hampshire|                      1|        5|         30|2024-12-10 19:07:00|                  1|           2|2021-12-11|              8.05|          11.4|        24.5|           2.4|          1.16|               0.9|\n",
      "|01522a93-be17-45b...|   2021-04-20|          1|               2|              3|                1|51.159438|               1|                     Dover| 1.298314|                   1|                 2|               Kent|                      1|        2|         30|2024-12-10 00:50:00|                  1|           3|2021-04-20|14.166666666666666|          10.2|        11.1|           2.5|         19.71|               0.0|\n",
      "+--------------------+-------------+-----------+----------------+---------------+-----------------+---------+----------------+--------------------------+---------+--------------------+------------------+-------------------+-----------------------+---------+-----------+-------------------+-------------------+------------+----------+------------------+--------------+------------+--------------+--------------+------------------+\n",
      "only showing top 20 rows\n",
      "\n"
     ]
    }
   ],
   "source": [
    "#Fusion\n",
    "df_combined2 = accidents_df.join(weather_df2, on=\"AccidentIndex\", how=\"inner\")\n",
    "print(\"Taille du DataFrame combiné :\", df_combined2.count())\n",
    "df_combined2.show()\n"
   ]
  },
  {
   "cell_type": "code",
   "execution_count": 6,
   "metadata": {},
   "outputs": [
    {
     "name": "stdout",
     "output_type": "stream",
     "text": [
      "Les données fusionnées ont été sauvegardées dans le fichier : /Users/madina/Desktop/datalake/Merged_Accidents_Weather_Data3.csv\n"
     ]
    }
   ],
   "source": [
    "# Sauvegarde du résultat\n",
    "output_path = \"fusion.csv\"\n",
    "output_path_parquet = 'fusion.parquet'\n",
    "df_combined2.coalesce(1).write.option(\"header\", True).csv(output_path)\n",
    "df_combined2.coalesce(1).write.mode(\"overwrite\", True).parquet(output_path_parquet)\n",
    "print(f\"Les données fusionnées ont été sauvegardées dans le fichier : {output_path} et {output_path_parquet}\")"
   ]
  }
 ],
 "metadata": {
  "kernelspec": {
   "display_name": ".venv",
   "language": "python",
   "name": "python3"
  },
  "language_info": {
   "codemirror_mode": {
    "name": "ipython",
    "version": 3
   },
   "file_extension": ".py",
   "mimetype": "text/x-python",
   "name": "python",
   "nbconvert_exporter": "python",
   "pygments_lexer": "ipython3",
   "version": "3.13.0"
  }
 },
 "nbformat": 4,
 "nbformat_minor": 2
}
