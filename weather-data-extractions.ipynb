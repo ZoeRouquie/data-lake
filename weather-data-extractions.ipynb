{
 "cells": [
  {
   "cell_type": "code",
   "execution_count": null,
   "metadata": {},
   "outputs": [],
   "source": [
    "import requests\n",
    "import pandas as pd\n",
    "import json\n",
    "from uuid import uuid4\n"
   ]
  },
  {
   "cell_type": "code",
   "execution_count": null,
   "metadata": {},
   "outputs": [],
   "source": [
    "accident = pd.read_csv('Road Accident Data.csv')\n",
    "sample_size = int(len(accident)* 0.01)\n",
    "accident = accident.sample(n=sample_size, random_state=42)\n",
    "\n",
    "try:\n",
    "    accident['Accident Date'] = pd.to_datetime(accident['Accident Date'], errors='coerce').dt.strftime('%Y-%m-%d')\n",
    "except Exception as e:\n",
    "    print(f\"Erreur lors de la conversion des dates : {e}\")\n"
   ]
  },
  {
   "cell_type": "code",
   "execution_count": 13,
   "metadata": {},
   "outputs": [
    {
     "name": "stdout",
     "output_type": "stream",
     "text": [
      "Erreur pour l'index 343ef0fe-c0c8-4b23-b7a2-83f15d8dd080: ('Connection aborted.', ConnectionResetError(10054, 'Une connexion existante a dû être fermée par l’hôte distant', None, 10054, None))\n",
      "Erreur pour l'index 200904EA09135: ('Connection aborted.', ConnectionResetError(10054, 'Une connexion existante a dû être fermée par l’hôte distant', None, 10054, None))\n",
      "Erreur pour l'index f93c8104-94be-4373-bf6e-9e87912105ae: ('Connection aborted.', ConnectionResetError(10054, 'Une connexion existante a dû être fermée par l’hôte distant', None, 10054, None))\n",
      "Erreur pour l'index 2009559D01234: ('Connection aborted.', ConnectionResetError(10054, 'Une connexion existante a dû être fermée par l’hôte distant', None, 10054, None))\n",
      "Erreur pour l'index 200922E904889: ('Connection aborted.', ConnectionResetError(10054, 'Une connexion existante a dû être fermée par l’hôte distant', None, 10054, None))\n",
      "Erreur pour l'index 200901LX51038: ('Connection aborted.', ConnectionResetError(10054, 'Une connexion existante a dû être fermée par l’hôte distant', None, 10054, None))\n",
      "Erreur pour l'index 200901TX20164: ('Connection aborted.', ConnectionResetError(10054, 'Une connexion existante a dû être fermée par l’hôte distant', None, 10054, None))\n",
      "Erreur pour l'index 908b618e-799b-48c6-a51c-88c34c4b6edc: ('Connection aborted.', ConnectionResetError(10054, 'Une connexion existante a dû être fermée par l’hôte distant', None, 10054, None))\n",
      "Erreur pour l'index 200943P023049: ('Connection aborted.', ConnectionResetError(10054, 'Une connexion existante a dû être fermée par l’hôte distant', None, 10054, None))\n",
      "Erreur pour l'index 201014B138810: ('Connection aborted.', ConnectionResetError(10054, 'Une connexion existante a dû être fermée par l’hôte distant', None, 10054, None))\n",
      "Erreur pour l'index 200901QK50242: ('Connection aborted.', ConnectionResetError(10054, 'Une connexion existante a dû être fermée par l’hôte distant', None, 10054, None))\n",
      "Erreur pour l'index 201001KD50640: ('Connection aborted.', ConnectionResetError(10054, 'Une connexion existante a dû être fermée par l’hôte distant', None, 10054, None))\n",
      "Erreur pour l'index c9c41ea2-0c70-4199-bad4-ecd76ea6c995: ('Connection aborted.', ConnectionResetError(10054, 'Une connexion existante a dû être fermée par l’hôte distant', None, 10054, None))\n",
      "Erreur pour l'index 200906P019891: ('Connection aborted.', ConnectionResetError(10054, 'Une connexion existante a dû être fermée par l’hôte distant', None, 10054, None))\n",
      "Erreur pour l'index 200945GU36268: ('Connection aborted.', ConnectionResetError(10054, 'Une connexion existante a dû être fermée par l’hôte distant', None, 10054, None))\n",
      "Erreur pour l'index 201001LX50298: ('Connection aborted.', ConnectionResetError(10054, 'Une connexion existante a dû être fermée par l’hôte distant', None, 10054, None))\n",
      "Erreur pour l'index 201045MO55121: ('Connection aborted.', ConnectionResetError(10054, 'Une connexion existante a dû être fermée par l’hôte distant', None, 10054, None))\n",
      "Erreur pour l'index 201043P125100: ('Connection aborted.', ConnectionResetError(10054, 'Une connexion existante a dû être fermée par l’hôte distant', None, 10054, None))\n",
      "Erreur pour l'index 200922F901361: ('Connection aborted.', ConnectionResetError(10054, 'Une connexion existante a dû être fermée par l’hôte distant', None, 10054, None))\n",
      "Erreur pour l'index 200943N198129: ('Connection aborted.', ConnectionResetError(10054, 'Une connexion existante a dû être fermée par l’hôte distant', None, 10054, None))\n",
      "Erreur pour l'index 48f2a99e-2962-4d0f-9ab3-533ddc0692d9: ('Connection aborted.', ConnectionResetError(10054, 'Une connexion existante a dû être fermée par l’hôte distant', None, 10054, None))\n",
      "Données météorologiques ajoutées avec succès !\n"
     ]
    }
   ],
   "source": [
    "import time\n",
    "\n",
    "url = \"https://archive-api.open-meteo.com/v1/era5\"\n",
    "\n",
    "weather_data = []\n",
    "\n",
    "for _, row in accident.iterrows():\n",
    "    latitude = row['Latitude']\n",
    "    longitude = row['Longitude']\n",
    "    date = row['Accident Date']\n",
    "    index = row[\"Accident_Index\"]\n",
    "\n",
    "\n",
    "    # Paramètres pour l'API Open-Meteo\n",
    "    params = {\n",
    "        \"latitude\": latitude,\n",
    "        \"longitude\": longitude,\n",
    "        \"start_date\": date,\n",
    "        \"end_date\": date,\n",
    "        \"daily\": \"temperature_2m_max,temperature_2m_min,precipitation_sum,windspeed_10m_max,shortwave_radiation_sum,sunrise,sunset\",\n",
    "        \"timezone\": \"auto\"\n",
    "    }\n",
    "\n",
    "    try:\n",
    "        response = requests.get(url, params=params, timeout = 10)\n",
    "        data = response.json()\n",
    "\n",
    "        # Vérification si les données \"daily\" sont disponibles\n",
    "        if \"daily\" in data:\n",
    "            daily_data = data[\"daily\"]\n",
    "\n",
    "            # Extraction et calcul des données nécessaires\n",
    "            max_temp = daily_data[\"temperature_2m_max\"][0] if \"temperature_2m_max\" in daily_data else None\n",
    "            min_temp = daily_data[\"temperature_2m_min\"][0] if \"temperature_2m_min\" in daily_data else None\n",
    "            total_precipitation = daily_data[\"precipitation_sum\"][0] if \"precipitation_sum\" in daily_data else None\n",
    "            wind_speed = daily_data[\"windspeed_10m_max\"][0] if \"windspeed_10m_max\" in daily_data else None\n",
    "            solar_radiation = daily_data[\"shortwave_radiation_sum\"][0] if \"shortwave_radiation_sum\" in daily_data else None\n",
    "\n",
    "            # Calcul de la durée totale de jour en heures\n",
    "            sunrise = pd.to_datetime(daily_data[\"sunrise\"][0]) if \"sunrise\" in daily_data else None\n",
    "            sunset = pd.to_datetime(daily_data[\"sunset\"][0]) if \"sunset\" in daily_data else None\n",
    "            day_length = None\n",
    "            if sunrise and sunset:\n",
    "                day_length = (sunset - sunrise).seconds / 3600  # Convertir en heures\n",
    "\n",
    "            # Ajouter les données collectées dans la liste\n",
    "            weather_data.append({\n",
    "                \"AccidentIndex\": index,\n",
    "                \"Date\": date,\n",
    "                \"MaxTemperature\": max_temp,\n",
    "                \"MinTemperature\": min_temp,\n",
    "                \"TotalPrecipitation\": total_precipitation,\n",
    "                \"MaxWindSpeed\": wind_speed,\n",
    "                \"SolarRadiation\": solar_radiation,\n",
    "                \"DayLengthHours\": day_length\n",
    "            })\n",
    "\n",
    "           \n",
    "           \n",
    "    except Exception as e:\n",
    "        print(f\"Erreur pour l'index {index}: {e}\")\n",
    "        time.sleep(1)\n",
    "# Sauvegarder les données météo dans un fichier JSON\n",
    "with open('weather_data2.json', 'w') as json_file:\n",
    "    json.dump(weather_data, json_file, indent=4)\n",
    "\n",
    "print(\"Données météorologiques ajoutées avec succès !\")"
   ]
  },
  {
   "cell_type": "markdown",
   "metadata": {},
   "source": [
    "Convertir au format parquet"
   ]
  },
  {
   "cell_type": "code",
   "execution_count": 14,
   "metadata": {},
   "outputs": [
    {
     "name": "stdout",
     "output_type": "stream",
     "text": [
      "Données météorologiques ajoutées avec succès au format Parquet !\n"
     ]
    }
   ],
   "source": [
    "try:\n",
    "    # Convertir la liste des dictionnaires en DataFrame\n",
    "    weather_df = pd.DataFrame(weather_data)\n",
    "\n",
    "    # Sauvegarder au format Parquet\n",
    "    weather_df.to_parquet('weather_data.parquet', engine='pyarrow', index=False)\n",
    "\n",
    "    print(\"Données météorologiques ajoutées avec succès au format Parquet !\")\n",
    "except Exception as e:\n",
    "    print(f\"Erreur lors de la conversion en Parquet : {e}\")"
   ]
  }
 ],
 "metadata": {
  "kernelspec": {
   "display_name": "DataScience",
   "language": "python",
   "name": "python3"
  },
  "language_info": {
   "codemirror_mode": {
    "name": "ipython",
    "version": 3
   },
   "file_extension": ".py",
   "mimetype": "text/x-python",
   "name": "python",
   "nbconvert_exporter": "python",
   "pygments_lexer": "ipython3",
   "version": "3.10.15"
  }
 },
 "nbformat": 4,
 "nbformat_minor": 2
}
